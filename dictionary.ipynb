{
 "cells": [
  {
   "cell_type": "markdown",
   "metadata": {},
   "source": [
    "DICTIONARY \n",
    "- how to declare it\n",
    "- how to access key and value of a dictionary\n",
    "- how to use loops in dictionary"
   ]
  },
  {
   "cell_type": "code",
   "execution_count": null,
   "metadata": {},
   "outputs": [],
   "source": [
    "student = {\n",
    "    \"name\" : \"kavya\",\n",
    "    \"class\" : \"12th\",\n",
    "    \"roll_no\" : 202,\n",
    "    \"age\"  :  17\n",
    "}\n",
    "print(student)"
   ]
  },
  {
   "cell_type": "code",
   "execution_count": null,
   "metadata": {},
   "outputs": [],
   "source": [
    "temp = {\n",
    "    'lucknow' : [25,30,35],\n",
    "    'delhi' :   [30,35,40],\n",
    "    'chennai' : [24,23,22],\n",
    "}\n",
    "print(temp)"
   ]
  },
  {
   "cell_type": "code",
   "execution_count": null,
   "metadata": {},
   "outputs": [],
   "source": [
    "info = dict(name='kavya',age=24,dept='HR',salary=30000)\n",
    "print(info)"
   ]
  },
  {
   "cell_type": "code",
   "execution_count": null,
   "metadata": {},
   "outputs": [],
   "source": [
    "info2=dict(name=input(\"enter the name\"),age=int(input(\"enter the age\")),dept=input(\"enter the depthment\"),salary=int(input(\"enter the salary\")))\n",
    "print(info2)"
   ]
  },
  {
   "cell_type": "code",
   "execution_count": null,
   "metadata": {},
   "outputs": [],
   "source": [
    "#1st method\n",
    "print(student['name'])\n",
    "print(student['roll_no'])"
   ]
  },
  {
   "cell_type": "code",
   "execution_count": null,
   "metadata": {},
   "outputs": [],
   "source": [
    "#2nd method\n",
    "print(student.get('name'))\n",
    "print(student.get('roll_no'))"
   ]
  },
  {
   "cell_type": "code",
   "execution_count": null,
   "metadata": {},
   "outputs": [],
   "source": [
    "#to add item in a dictionary\n",
    "student['school'] = 'dps'\n",
    "student['city'] = 'lucknow'\n",
    "print(student)"
   ]
  },
  {
   "cell_type": "code",
   "execution_count": null,
   "metadata": {},
   "outputs": [],
   "source": [
    "for x in student:\n",
    "    print(x)"
   ]
  },
  {
   "cell_type": "code",
   "execution_count": null,
   "metadata": {},
   "outputs": [],
   "source": [
    "for k,v in student.items():\n",
    "    print(f'{k}:{v}')"
   ]
  },
  {
   "cell_type": "code",
   "execution_count": null,
   "metadata": {},
   "outputs": [],
   "source": [
    "print(student.keys())\n",
    "print(student.values())\n",
    "print(student.items())"
   ]
  },
  {
   "cell_type": "code",
   "execution_count": null,
   "metadata": {},
   "outputs": [],
   "source": [
    "# nested dictionary\n",
    "company = {\n",
    "    'emp001' : {\n",
    "        'name' : 'kavya',\n",
    "        'age' : 25,\n",
    "        'dept' : 'finance',\n",
    "        'roll_no' : 203,\n",
    "        'salary' : 30000\n",
    "    },\n",
    "    'emp002': {\n",
    "        'name': 'ekta',\n",
    "        'age': 19,\n",
    "        'dept': 'HR',\n",
    "        'roll_no':200,\n",
    "        'salary':30000\n",
    "    },\n",
    "    'emp003': {\n",
    "        'name': 'aryan',\n",
    "        'age': 22,\n",
    "        'dept': 'IT',\n",
    "        'roll_n0': 204,\n",
    "        'salary': 25000\n",
    "    }\n",
    "}\n",
    "print(company)"
   ]
  },
  {
   "cell_type": "code",
   "execution_count": null,
   "metadata": {},
   "outputs": [],
   "source": [
    "from pprint import pp"
   ]
  },
  {
   "cell_type": "code",
   "execution_count": null,
   "metadata": {},
   "outputs": [],
   "source": [
    "pp(company)"
   ]
  },
  {
   "cell_type": "code",
   "execution_count": null,
   "metadata": {},
   "outputs": [],
   "source": [
    "print(company['emp002']['dept'])"
   ]
  },
  {
   "cell_type": "code",
   "execution_count": null,
   "metadata": {},
   "outputs": [],
   "source": [
    "print(company['emp001']['name'])"
   ]
  },
  {
   "cell_type": "code",
   "execution_count": null,
   "metadata": {},
   "outputs": [],
   "source": [
    "company['emp004'] = {\n",
    "    'name':'khush',\n",
    "    'age':18,\n",
    "    'roll_no':200,\n",
    "    'dept':'HR',\n",
    "    'salary':45000\n",
    "}\n",
    "pp(company)"
   ]
  },
  {
   "cell_type": "code",
   "execution_count": null,
   "metadata": {},
   "outputs": [],
   "source": [
    "print(temp['lucknow'][1])\n",
    "print(temp['delhi'][2])"
   ]
  },
  {
   "cell_type": "code",
   "execution_count": null,
   "metadata": {},
   "outputs": [],
   "source": [
    "print('average temperature in delhi :', sum(temp['delhi'])/len(temp['delhi']) )"
   ]
  },
  {
   "cell_type": "code",
   "execution_count": null,
   "metadata": {},
   "outputs": [],
   "source": [
    "report = {\n",
    "    'Alex': {\n",
    "        'English':80,\n",
    "        'maths':85,\n",
    "        'hindi':90,\n",
    "        'total_marks':255\n",
    "        \n",
    "    },\n",
    "    'Rahul': {\n",
    "        'English':80,\n",
    "        'maths':85,\n",
    "        'hindi':90,\n",
    "        'total_marks':255\n",
    "    },\n",
    "}\n",
    "pp(report)"
   ]
  },
  {
   "cell_type": "code",
   "execution_count": null,
   "metadata": {},
   "outputs": [],
   "source": [
    "\n",
    "\n",
    "\n",
    "\n",
    "\n",
    "\n",
    "\n",
    "\n",
    "\n",
    "\n",
    "\n",
    "\n",
    "\n",
    "\n",
    "\n",
    "\n",
    "\n",
    "\n",
    "\n",
    "\n",
    "\n",
    "\n",
    "\n",
    "\n",
    "\n",
    "\n",
    "\n",
    "\n",
    "\n",
    "\n",
    "\n",
    "\n",
    "\n",
    "\n",
    "\n",
    "\n",
    "\n",
    "\n",
    "\n",
    "\n",
    "\n",
    "\n",
    "\n",
    "\n",
    "\n",
    "\n",
    "\n",
    "\n",
    "\n",
    "\n",
    "\n"
   ]
  }
 ],
 "metadata": {
  "kernelspec": {
   "display_name": "base",
   "language": "python",
   "name": "python3"
  },
  "language_info": {
   "codemirror_mode": {
    "name": "ipython",
    "version": 3
   },
   "file_extension": ".py",
   "mimetype": "text/x-python",
   "name": "python",
   "nbconvert_exporter": "python",
   "pygments_lexer": "ipython3",
   "version": "3.12.4"
  }
 },
 "nbformat": 4,
 "nbformat_minor": 2
}
