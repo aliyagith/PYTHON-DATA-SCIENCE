{
 "cells": [
  {
   "cell_type": "code",
   "execution_count": null,
   "metadata": {},
   "outputs": [],
   "source": []
  },
  {
   "cell_type": "markdown",
   "metadata": {},
   "source": [
    "DICTIONARY \n",
    "- how to declare it\n",
    "- how to access key and value of a dictionary\n",
    "- how to use loops in dictionary"
   ]
  },
  {
   "cell_type": "code",
   "execution_count": 15,
   "metadata": {},
   "outputs": [
    {
     "name": "stdout",
     "output_type": "stream",
     "text": [
      "{'name': 'kavya', 'class': '12th', 'roll_no': 202, 'age': 17}\n"
     ]
    }
   ],
   "source": [
    "student = {\n",
    "    \"name\" : \"kavya\",\n",
    "    \"class\" : \"12th\",\n",
    "    \"roll_no\" : 202,\n",
    "    \"age\"  :  17\n",
    "}\n",
    "print(student)"
   ]
  },
  {
   "cell_type": "code",
   "execution_count": 16,
   "metadata": {},
   "outputs": [
    {
     "name": "stdout",
     "output_type": "stream",
     "text": [
      "{'lucknow': [25, 30, 35], 'delhi': [30, 35, 40], 'chennai': [24, 23, 22]}\n"
     ]
    }
   ],
   "source": [
    "temp = {\n",
    "    'lucknow' : [25,30,35],\n",
    "    'delhi' :   [30,35,40],\n",
    "    'chennai' : [24,23,22],\n",
    "}\n",
    "print(temp)"
   ]
  },
  {
   "cell_type": "code",
   "execution_count": 17,
   "metadata": {},
   "outputs": [
    {
     "name": "stdout",
     "output_type": "stream",
     "text": [
      "{'name': 'kavya', 'age': 24, 'dept': 'HR', 'salary': 30000}\n"
     ]
    }
   ],
   "source": [
    "info = dict(name='kavya',age=24,dept='HR',salary=30000)\n",
    "print(info)"
   ]
  },
  {
   "cell_type": "code",
   "execution_count": 18,
   "metadata": {},
   "outputs": [
    {
     "name": "stdout",
     "output_type": "stream",
     "text": [
      "{'name': 'kavya', 'age': 25, 'dept': 'finance', 'salary': 300000}\n"
     ]
    }
   ],
   "source": [
    "info2=dict(name=input(\"enter the name\"),age=int(input(\"enter the age\")),dept=input(\"enter the depthment\"),salary=int(input(\"enter the salary\")))\n",
    "print(info2)"
   ]
  },
  {
   "cell_type": "code",
   "execution_count": 21,
   "metadata": {},
   "outputs": [
    {
     "name": "stdout",
     "output_type": "stream",
     "text": [
      "kavya\n",
      "202\n"
     ]
    }
   ],
   "source": [
    "#1st method\n",
    "print(student['name'])\n",
    "print(student['roll_no'])"
   ]
  },
  {
   "cell_type": "code",
   "execution_count": 22,
   "metadata": {},
   "outputs": [
    {
     "name": "stdout",
     "output_type": "stream",
     "text": [
      "kavya\n",
      "202\n"
     ]
    }
   ],
   "source": [
    "#2nd method\n",
    "print(student.get('name'))\n",
    "print(student.get('roll_no'))"
   ]
  },
  {
   "cell_type": "code",
   "execution_count": 28,
   "metadata": {},
   "outputs": [
    {
     "name": "stdout",
     "output_type": "stream",
     "text": [
      "{'name': 'kavya', 'class': '12th', 'roll_no': 202, 'age': 17, 'school': 'dps', 'city': 'lucknow'}\n"
     ]
    }
   ],
   "source": [
    "#to add item in a dictionary\n",
    "student['school'] = 'dps'\n",
    "student['city'] = 'lucknow'\n",
    "print(student)"
   ]
  },
  {
   "cell_type": "code",
   "execution_count": 25,
   "metadata": {},
   "outputs": [
    {
     "name": "stdout",
     "output_type": "stream",
     "text": [
      "name\n",
      "class\n",
      "roll_no\n",
      "age\n",
      "school\n",
      "city\n"
     ]
    }
   ],
   "source": [
    "for x in student:\n",
    "    print(x)"
   ]
  },
  {
   "cell_type": "code",
   "execution_count": 27,
   "metadata": {},
   "outputs": [
    {
     "name": "stdout",
     "output_type": "stream",
     "text": [
      "name:kavya\n",
      "class:12th\n",
      "roll_no:202\n",
      "age:17\n",
      "school:dps\n",
      "city:lko\n"
     ]
    }
   ],
   "source": [
    "for k,v in student.items():\n",
    "    print(f'{k}:{v}')"
   ]
  },
  {
   "cell_type": "code",
   "execution_count": 30,
   "metadata": {},
   "outputs": [
    {
     "name": "stdout",
     "output_type": "stream",
     "text": [
      "dict_keys(['name', 'class', 'roll_no', 'age', 'school', 'city'])\n",
      "dict_values(['kavya', '12th', 202, 17, 'dps', 'lucknow'])\n",
      "dict_items([('name', 'kavya'), ('class', '12th'), ('roll_no', 202), ('age', 17), ('school', 'dps'), ('city', 'lucknow')])\n"
     ]
    }
   ],
   "source": [
    "print(student.keys())\n",
    "print(student.values())\n",
    "print(student.items())"
   ]
  },
  {
   "cell_type": "code",
   "execution_count": 31,
   "metadata": {},
   "outputs": [
    {
     "name": "stdout",
     "output_type": "stream",
     "text": [
      "{'emp001': {'name': 'kavya', 'age': 25, 'dept': 'finance', 'roll_no': 203, 'salary': 30000}, 'emp002': {'name': 'ekta', 'age': 19, 'dept': 'HR', 'roll_no': 200, 'salary': 30000}, 'emp003': {'name': 'aryan', 'age': 22, 'dept': 'IT', 'roll_n0': 204, 'salary': 25000}}\n"
     ]
    }
   ],
   "source": [
    "# nested dictionary\n",
    "company = {\n",
    "    'emp001' : {\n",
    "        'name' : 'kavya',\n",
    "        'age' : 25,\n",
    "        'dept' : 'finance',\n",
    "        'roll_no' : 203,\n",
    "        'salary' : 30000\n",
    "    },\n",
    "    'emp002': {\n",
    "        'name': 'ekta',\n",
    "        'age': 19,\n",
    "        'dept': 'HR',\n",
    "        'roll_no':200,\n",
    "        'salary':30000\n",
    "    },\n",
    "    'emp003': {\n",
    "        'name': 'aryan',\n",
    "        'age': 22,\n",
    "        'dept': 'IT',\n",
    "        'roll_n0': 204,\n",
    "        'salary': 25000\n",
    "    }\n",
    "}\n",
    "print(company)"
   ]
  },
  {
   "cell_type": "code",
   "execution_count": 33,
   "metadata": {},
   "outputs": [],
   "source": [
    "from pprint import pp"
   ]
  },
  {
   "cell_type": "code",
   "execution_count": 34,
   "metadata": {},
   "outputs": [
    {
     "name": "stdout",
     "output_type": "stream",
     "text": [
      "{'emp001': {'name': 'kavya',\n",
      "            'age': 25,\n",
      "            'dept': 'finance',\n",
      "            'roll_no': 203,\n",
      "            'salary': 30000},\n",
      " 'emp002': {'name': 'ekta',\n",
      "            'age': 19,\n",
      "            'dept': 'HR',\n",
      "            'roll_no': 200,\n",
      "            'salary': 30000},\n",
      " 'emp003': {'name': 'aryan',\n",
      "            'age': 22,\n",
      "            'dept': 'IT',\n",
      "            'roll_n0': 204,\n",
      "            'salary': 25000}}\n"
     ]
    }
   ],
   "source": [
    "pp(company)"
   ]
  },
  {
   "cell_type": "code",
   "execution_count": 35,
   "metadata": {},
   "outputs": [
    {
     "name": "stdout",
     "output_type": "stream",
     "text": [
      "HR\n"
     ]
    }
   ],
   "source": [
    "print(company['emp002']['dept'])"
   ]
  },
  {
   "cell_type": "code",
   "execution_count": 36,
   "metadata": {},
   "outputs": [
    {
     "name": "stdout",
     "output_type": "stream",
     "text": [
      "kavya\n"
     ]
    }
   ],
   "source": [
    "print(company['emp001']['name'])"
   ]
  },
  {
   "cell_type": "code",
   "execution_count": 37,
   "metadata": {},
   "outputs": [
    {
     "name": "stdout",
     "output_type": "stream",
     "text": [
      "{'emp001': {'name': 'kavya',\n",
      "            'age': 25,\n",
      "            'dept': 'finance',\n",
      "            'roll_no': 203,\n",
      "            'salary': 30000},\n",
      " 'emp002': {'name': 'ekta',\n",
      "            'age': 19,\n",
      "            'dept': 'HR',\n",
      "            'roll_no': 200,\n",
      "            'salary': 30000},\n",
      " 'emp003': {'name': 'aryan',\n",
      "            'age': 22,\n",
      "            'dept': 'IT',\n",
      "            'roll_n0': 204,\n",
      "            'salary': 25000},\n",
      " 'emp004': {'name': 'khush',\n",
      "            'age': 18,\n",
      "            'roll_no': 200,\n",
      "            'dept': 'HR',\n",
      "            'salary': 45000}}\n"
     ]
    }
   ],
   "source": [
    "company['emp004'] = {\n",
    "    'name':'khush',\n",
    "    'age':18,\n",
    "    'roll_no':200,\n",
    "    'dept':'HR',\n",
    "    'salary':45000\n",
    "}\n",
    "pp(company)"
   ]
  },
  {
   "cell_type": "code",
   "execution_count": 39,
   "metadata": {},
   "outputs": [
    {
     "name": "stdout",
     "output_type": "stream",
     "text": [
      "30\n",
      "40\n"
     ]
    }
   ],
   "source": [
    "print(temp['lucknow'][1])\n",
    "print(temp['delhi'][2])"
   ]
  },
  {
   "cell_type": "code",
   "execution_count": 42,
   "metadata": {},
   "outputs": [
    {
     "name": "stdout",
     "output_type": "stream",
     "text": [
      "average temperature in delhi : 35.0\n"
     ]
    }
   ],
   "source": [
    "print('average temperature in delhi :', sum(temp['delhi'])/len(temp['delhi']) )"
   ]
  },
  {
   "cell_type": "code",
   "execution_count": 9,
   "metadata": {},
   "outputs": [
    {
     "ename": "NameError",
     "evalue": "name 'pp' is not defined",
     "output_type": "error",
     "traceback": [
      "\u001b[1;31m---------------------------------------------------------------------------\u001b[0m",
      "\u001b[1;31mNameError\u001b[0m                                 Traceback (most recent call last)",
      "Cell \u001b[1;32mIn[9], line 16\u001b[0m\n\u001b[0;32m      1\u001b[0m report \u001b[38;5;241m=\u001b[39m {\n\u001b[0;32m      2\u001b[0m     \u001b[38;5;124m'\u001b[39m\u001b[38;5;124mAlex\u001b[39m\u001b[38;5;124m'\u001b[39m: {\n\u001b[0;32m      3\u001b[0m         \u001b[38;5;124m'\u001b[39m\u001b[38;5;124mEnglish\u001b[39m\u001b[38;5;124m'\u001b[39m:\u001b[38;5;241m80\u001b[39m,\n\u001b[1;32m   (...)\u001b[0m\n\u001b[0;32m     14\u001b[0m     },\n\u001b[0;32m     15\u001b[0m }\n\u001b[1;32m---> 16\u001b[0m pp(report)\n",
      "\u001b[1;31mNameError\u001b[0m: name 'pp' is not defined"
     ]
    }
   ],
   "source": [
    "report = {\n",
    "    'Alex': {\n",
    "        'English':80,\n",
    "        'maths':85,\n",
    "        'hindi':90,\n",
    "        'total_marks':255\n",
    "        \n",
    "    },\n",
    "    'Rahul': {\n",
    "        'English':80,\n",
    "        'maths':85,\n",
    "        'hindi':90,\n",
    "        'total_marks':255\n",
    "    },\n",
    "}\n",
    "pp(report)"
   ]
  },
  {
   "cell_type": "code",
   "execution_count": null,
   "metadata": {},
   "outputs": [],
   "source": []
  }
 ],
 "metadata": {
  "kernelspec": {
   "display_name": "base",
   "language": "python",
   "name": "python3"
  },
  "language_info": {
   "codemirror_mode": {
    "name": "ipython",
    "version": 3
   },
   "file_extension": ".py",
   "mimetype": "text/x-python",
   "name": "python",
   "nbconvert_exporter": "python",
   "pygments_lexer": "ipython3",
   "version": "3.12.4"
  }
 },
 "nbformat": 4,
 "nbformat_minor": 2
}
