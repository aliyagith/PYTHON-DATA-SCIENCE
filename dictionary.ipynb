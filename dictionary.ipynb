{
 "cells": [
  {
   "cell_type": "markdown",
   "metadata": {},
   "source": [
    "DICTIONARY \n",
    "- how to declare it\n",
    "- how to access key and value of a dictionary\n",
    "- how to use loops in dictionary"
   ]
  },
  {
   "cell_type": "code",
   "execution_count": 1,
   "metadata": {},
   "outputs": [
    {
     "name": "stdout",
     "output_type": "stream",
     "text": [
      "{'name': 'kavya', 'class': '12th', 'roll_no': 202, 'age': 17}\n"
     ]
    }
   ],
   "source": [
    "student = {\n",
    "    \"name\" : \"kavya\",\n",
    "    \"class\" : \"12th\",\n",
    "    \"roll_no\" : 202,\n",
    "    \"age\"  :  17\n",
    "}\n",
    "print(student)"
   ]
  },
  {
   "cell_type": "code",
   "execution_count": 2,
   "metadata": {},
   "outputs": [
    {
     "name": "stdout",
     "output_type": "stream",
     "text": [
      "{'lucknow': [25, 30, 35], 'delhi': [30, 35, 40], 'chennai': [24, 23, 22]}\n"
     ]
    }
   ],
   "source": [
    "temp = {\n",
    "    'lucknow' : [25,30,35],\n",
    "    'delhi' :   [30,35,40],\n",
    "    'chennai' : [24,23,22],\n",
    "}\n",
    "print(temp)"
   ]
  },
  {
   "cell_type": "code",
   "execution_count": 3,
   "metadata": {},
   "outputs": [
    {
     "name": "stdout",
     "output_type": "stream",
     "text": [
      "{'name': 'kavya', 'age': 24, 'dept': 'HR', 'salary': 30000}\n"
     ]
    }
   ],
   "source": [
    "info = dict(name='kavya',age=24,dept='HR',salary=30000)\n",
    "print(info)"
   ]
  },
  {
   "cell_type": "code",
   "execution_count": 4,
   "metadata": {},
   "outputs": [
    {
     "name": "stdout",
     "output_type": "stream",
     "text": [
      "{'name': 'kavya', 'age': 23, 'dept': 'HR', 'salary': 30000}\n"
     ]
    }
   ],
   "source": [
    "info2=dict(name=input(\"enter the name\"),age=int(input(\"enter the age\")),dept=input(\"enter the depthment\"),salary=int(input(\"enter the salary\")))\n",
    "print(info2)"
   ]
  },
  {
   "cell_type": "code",
   "execution_count": 5,
   "metadata": {},
   "outputs": [
    {
     "name": "stdout",
     "output_type": "stream",
     "text": [
      "kavya\n",
      "202\n"
     ]
    }
   ],
   "source": [
    "#1st method\n",
    "print(student['name'])\n",
    "print(student['roll_no'])"
   ]
  },
  {
   "cell_type": "code",
   "execution_count": 6,
   "metadata": {},
   "outputs": [
    {
     "name": "stdout",
     "output_type": "stream",
     "text": [
      "kavya\n",
      "202\n"
     ]
    }
   ],
   "source": [
    "#2nd method\n",
    "print(student.get('name'))\n",
    "print(student.get('roll_no'))"
   ]
  },
  {
   "cell_type": "code",
   "execution_count": 7,
   "metadata": {},
   "outputs": [
    {
     "name": "stdout",
     "output_type": "stream",
     "text": [
      "{'name': 'kavya', 'class': '12th', 'roll_no': 202, 'age': 17, 'school': 'dps', 'city': 'lucknow'}\n"
     ]
    }
   ],
   "source": [
    "#to add item in a dictionary\n",
    "student['school'] = 'dps'\n",
    "student['city'] = 'lucknow'\n",
    "print(student)"
   ]
  },
  {
   "cell_type": "code",
   "execution_count": 8,
   "metadata": {},
   "outputs": [
    {
     "name": "stdout",
     "output_type": "stream",
     "text": [
      "name\n",
      "class\n",
      "roll_no\n",
      "age\n",
      "school\n",
      "city\n"
     ]
    }
   ],
   "source": [
    "for x in student:\n",
    "    print(x)"
   ]
  },
  {
   "cell_type": "code",
   "execution_count": 9,
   "metadata": {},
   "outputs": [
    {
     "name": "stdout",
     "output_type": "stream",
     "text": [
      "name:kavya\n",
      "class:12th\n",
      "roll_no:202\n",
      "age:17\n",
      "school:dps\n",
      "city:lucknow\n"
     ]
    }
   ],
   "source": [
    "for k,v in student.items():\n",
    "    print(f'{k}:{v}')"
   ]
  },
  {
   "cell_type": "code",
   "execution_count": 10,
   "metadata": {},
   "outputs": [
    {
     "name": "stdout",
     "output_type": "stream",
     "text": [
      "dict_keys(['name', 'class', 'roll_no', 'age', 'school', 'city'])\n",
      "dict_values(['kavya', '12th', 202, 17, 'dps', 'lucknow'])\n",
      "dict_items([('name', 'kavya'), ('class', '12th'), ('roll_no', 202), ('age', 17), ('school', 'dps'), ('city', 'lucknow')])\n"
     ]
    }
   ],
   "source": [
    "print(student.keys())\n",
    "print(student.values())\n",
    "print(student.items())"
   ]
  },
  {
   "cell_type": "code",
   "execution_count": 12,
   "metadata": {},
   "outputs": [
    {
     "name": "stdout",
     "output_type": "stream",
     "text": [
      "{'emp001': {'name': 'kavya', 'age': 25, 'dept': 'finance', 'roll_no': 203, 'salary': 30000}, 'emp002': {'name': 'ekta', 'age': 19, 'dept': 'HR', 'roll_no': 200, 'salary': 30000}, 'emp003': {'name': 'aryan', 'age': 22, 'dept': 'IT', 'roll_n0': 204, 'salary': 25000}}\n"
     ]
    }
   ],
   "source": [
    "# nested dictionary\n",
    "company = {\n",
    "    'emp001' : {\n",
    "        'name' : 'kavya',\n",
    "        'age' : 25,\n",
    "        'dept' : 'finance',\n",
    "        'roll_no' : 203,\n",
    "        'salary' : 30000\n",
    "    },\n",
    "    'emp002': {\n",
    "        'name': 'ekta',\n",
    "        'age': 19,\n",
    "        'dept': 'HR',\n",
    "        'roll_no':200,\n",
    "        'salary':30000\n",
    "    },\n",
    "    'emp003': {\n",
    "        'name': 'aryan',\n",
    "        'age': 22,\n",
    "        'dept': 'IT',\n",
    "        'roll_n0': 204,\n",
    "        'salary': 25000\n",
    "    }\n",
    "}\n",
    "print(company)"
   ]
  },
  {
   "cell_type": "code",
   "execution_count": 10,
   "metadata": {},
   "outputs": [],
   "source": [
    "from pprint import pp"
   ]
  },
  {
   "cell_type": "code",
   "execution_count": 13,
   "metadata": {},
   "outputs": [
    {
     "name": "stdout",
     "output_type": "stream",
     "text": [
      "{'emp001': {'name': 'kavya',\n",
      "            'age': 25,\n",
      "            'dept': 'finance',\n",
      "            'roll_no': 203,\n",
      "            'salary': 30000},\n",
      " 'emp002': {'name': 'ekta',\n",
      "            'age': 19,\n",
      "            'dept': 'HR',\n",
      "            'roll_no': 200,\n",
      "            'salary': 30000},\n",
      " 'emp003': {'name': 'aryan',\n",
      "            'age': 22,\n",
      "            'dept': 'IT',\n",
      "            'roll_n0': 204,\n",
      "            'salary': 25000}}\n"
     ]
    }
   ],
   "source": [
    "pp(company)"
   ]
  },
  {
   "cell_type": "code",
   "execution_count": 14,
   "metadata": {},
   "outputs": [
    {
     "name": "stdout",
     "output_type": "stream",
     "text": [
      "HR\n"
     ]
    }
   ],
   "source": [
    "print(company['emp002']['dept'])"
   ]
  },
  {
   "cell_type": "code",
   "execution_count": 15,
   "metadata": {},
   "outputs": [
    {
     "name": "stdout",
     "output_type": "stream",
     "text": [
      "kavya\n"
     ]
    }
   ],
   "source": [
    "print(company['emp001']['name'])"
   ]
  },
  {
   "cell_type": "code",
   "execution_count": 16,
   "metadata": {},
   "outputs": [
    {
     "name": "stdout",
     "output_type": "stream",
     "text": [
      "{'emp001': {'name': 'kavya',\n",
      "            'age': 25,\n",
      "            'dept': 'finance',\n",
      "            'roll_no': 203,\n",
      "            'salary': 30000},\n",
      " 'emp002': {'name': 'ekta',\n",
      "            'age': 19,\n",
      "            'dept': 'HR',\n",
      "            'roll_no': 200,\n",
      "            'salary': 30000},\n",
      " 'emp003': {'name': 'aryan',\n",
      "            'age': 22,\n",
      "            'dept': 'IT',\n",
      "            'roll_n0': 204,\n",
      "            'salary': 25000},\n",
      " 'emp004': {'name': 'khush',\n",
      "            'age': 18,\n",
      "            'roll_no': 200,\n",
      "            'dept': 'HR',\n",
      "            'salary': 45000}}\n"
     ]
    }
   ],
   "source": [
    "#add a new dictionary\n",
    "company['emp004'] = {\n",
    "    'name':'khush',\n",
    "    'age':18,\n",
    "    'roll_no':200,\n",
    "    'dept':'HR',\n",
    "    'salary':45000\n",
    "}\n",
    "pp(company)"
   ]
  },
  {
   "cell_type": "code",
   "execution_count": 18,
   "metadata": {},
   "outputs": [
    {
     "name": "stdout",
     "output_type": "stream",
     "text": [
      "average temperature in delhi : 35.0\n"
     ]
    }
   ],
   "source": [
    "print('average temperature in delhi :', sum(temp['delhi'])/len(temp['delhi']) )"
   ]
  },
  {
   "cell_type": "code",
   "execution_count": 25,
   "metadata": {},
   "outputs": [
    {
     "name": "stdout",
     "output_type": "stream",
     "text": [
      "{'Alex': {'English': 80, 'maths': 85, 'hindi': 90},\n",
      " 'Rahul': {'English': 80, 'maths': 85, 'hindi': 90}}\n"
     ]
    }
   ],
   "source": [
    "report = {\n",
    "    'Alex': {\n",
    "        'English':80,\n",
    "        'maths':85,\n",
    "        'hindi':90  \n",
    "    },\n",
    "    'Rahul': {\n",
    "        'English':80,\n",
    "        'maths':85,\n",
    "        'hindi':90\n",
    "    }\n",
    "}\n",
    "pp(report)"
   ]
  },
  {
   "cell_type": "code",
   "execution_count": 4,
   "metadata": {},
   "outputs": [
    {
     "name": "stdout",
     "output_type": "stream",
     "text": [
      "Alex\n",
      "-> English 80\n",
      "-> maths 85\n",
      "-> hindi 90\n",
      "-> total marks : 255\n",
      "Rahul\n",
      "-> English 80\n",
      "-> maths 85\n",
      "-> hindi 90\n",
      "-> total marks : 255\n"
     ]
    }
   ],
   "source": [
    "for student, marks in report.items():\n",
    "    print(student)\n",
    "    for subject, mark in marks.items():\n",
    "        print('->', subject, mark)\n",
    "    print('-> total marks :', sum(marks.values()))"
   ]
  }
 ],
 "metadata": {
  "kernelspec": {
   "display_name": "base",
   "language": "python",
   "name": "python3"
  },
  "language_info": {
   "codemirror_mode": {
    "name": "ipython",
    "version": 3
   },
   "file_extension": ".py",
   "mimetype": "text/x-python",
   "name": "python",
   "nbconvert_exporter": "python",
   "pygments_lexer": "ipython3",
   "version": "3.12.4"
  }
 },
 "nbformat": 4,
 "nbformat_minor": 2
}
