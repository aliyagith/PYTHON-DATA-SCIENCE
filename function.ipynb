{
 "cells": [
  {
   "cell_type": "code",
   "execution_count": null,
   "metadata": {},
   "outputs": [],
   "source": [
    "from random import choice, randint"
   ]
  },
  {
   "cell_type": "code",
   "execution_count": null,
   "metadata": {},
   "outputs": [],
   "source": [
    "choice"
   ]
  },
  {
   "cell_type": "code",
   "execution_count": null,
   "metadata": {},
   "outputs": [],
   "source": [
    "data = ['12','32','3','32','13','23']\n",
    "print(data)\n",
    "print(\"your number is:\")\n",
    "print(choice(data))"
   ]
  },
  {
   "cell_type": "code",
   "execution_count": null,
   "metadata": {},
   "outputs": [],
   "source": [
    "print(randint(1,6))"
   ]
  },
  {
   "cell_type": "code",
   "execution_count": null,
   "metadata": {},
   "outputs": [],
   "source": [
    "from random import sample, choices\n",
    "out = sample(data,10)\n",
    "print(*out) # * here is a trick to unpack the list\n",
    "out2 = choices(data, k=10)\n",
    "print(*out2)"
   ]
  },
  {
   "cell_type": "code",
   "execution_count": null,
   "metadata": {},
   "outputs": [],
   "source": [
    "from datetime import datetime"
   ]
  },
  {
   "cell_type": "code",
   "execution_count": null,
   "metadata": {},
   "outputs": [],
   "source": [
    "print(datetime.now())"
   ]
  },
  {
   "cell_type": "code",
   "execution_count": null,
   "metadata": {},
   "outputs": [],
   "source": [
    "# date\n",
    "date = datetime.date(datetime.now())\n",
    "print(date)\n",
    "time = datetime.time(datetime.now())\n",
    "print(date)\n",
    "now = datetime.now()\n",
    "print(now)\n",
    "formatted = now.strftime(\"%d/%m/%Y\")\n",
    "print(formatted)"
   ]
  },
  {
   "cell_type": "code",
   "execution_count": null,
   "metadata": {},
   "outputs": [],
   "source": [
    "import os"
   ]
  },
  {
   "cell_type": "code",
   "execution_count": null,
   "metadata": {},
   "outputs": [],
   "source": [
    "print(\"current location\")\n",
    "print(os.getcwd())"
   ]
  },
  {
   "cell_type": "code",
   "execution_count": null,
   "metadata": {},
   "outputs": [],
   "source": [
    "print(\"list all files\")\n",
    "content = os.listdir()\n",
    "for item in content:\n",
    "    print(f\":{item}\")"
   ]
  },
  {
   "cell_type": "code",
   "execution_count": null,
   "metadata": {},
   "outputs": [],
   "source": [
    "content= os.listdir(\"c:/program files\")\n",
    "for item in content:\n",
    "    print(f\":{item}\")"
   ]
  },
  {
   "cell_type": "code",
   "execution_count": null,
   "metadata": {},
   "outputs": [],
   "source": [
    "content = os.listdir(\"c:/program files\")\n",
    "for item in content:\n",
    "    path = f\"c:/program files/{item}\"\n",
    "    is_file = os.path.isfile(path)\n",
    "    if is_file:\n",
    "        print(f\"📃{item}\")\n",
    "    else:\n",
    "        print(f\"📃{item}\")"
   ]
  },
  {
   "cell_type": "code",
   "execution_count": null,
   "metadata": {},
   "outputs": [],
   "source": [
    "os.makedirs"
   ]
  },
  {
   "cell_type": "markdown",
   "metadata": {},
   "source": [
    "# User define functions\n",
    "### stage 1: define a function (create)\n",
    "def fun_name([params...]):\n",
    "statements\n",
    "...\n",
    "[return value]\n",
    "Stage 2: call the function(use)\n",
    "fun_name([args...])"
   ]
  },
  {
   "cell_type": "code",
   "execution_count": null,
   "metadata": {},
   "outputs": [],
   "source": [
    "def adder():\n",
    "    a = int(input(\"enter a numer:\"))\n",
    "    b = int(input(\"enter another number:\"))\n",
    "    total = a+b\n",
    "    print(total)"
   ]
  },
  {
   "cell_type": "code",
   "execution_count": null,
   "metadata": {},
   "outputs": [],
   "source": [
    "adder()\n",
    "adder()\n",
    "adder()"
   ]
  },
  {
   "cell_type": "code",
   "execution_count": null,
   "metadata": {},
   "outputs": [],
   "source": [
    "def adder(a,b):\n",
    "    total = a+b\n",
    "    return total"
   ]
  },
  {
   "cell_type": "code",
   "execution_count": null,
   "metadata": {},
   "outputs": [],
   "source": [
    "adder(10,12)"
   ]
  },
  {
   "cell_type": "code",
   "execution_count": null,
   "metadata": {},
   "outputs": [],
   "source": [
    "x =1299\n",
    "y = 2399\n",
    "adder(x,y)"
   ]
  },
  {
   "cell_type": "code",
   "execution_count": null,
   "metadata": {},
   "outputs": [],
   "source": [
    "def simple_interest(p,r,t):\n",
    "    si = p*r*t/100\n",
    "    amount = si+p\n",
    "    return si,amount"
   ]
  },
  {
   "cell_type": "code",
   "execution_count": null,
   "metadata": {},
   "outputs": [],
   "source": [
    "p = 200000\n",
    "r = 1.5\n",
    "t = 10\n",
    "simple_interest(p,r,t)"
   ]
  },
  {
   "cell_type": "code",
   "execution_count": null,
   "metadata": {},
   "outputs": [],
   "source": [
    "def area_sphere(r):\n",
    "    area = 4*3.14*r**2\n",
    "    print(area)"
   ]
  },
  {
   "cell_type": "code",
   "execution_count": null,
   "metadata": {},
   "outputs": [],
   "source": [
    "r = 10\n",
    "area_sphere(r)\n",
    "r = 14\n",
    "area_sphere(r)\n"
   ]
  },
  {
   "cell_type": "code",
   "execution_count": null,
   "metadata": {},
   "outputs": [],
   "source": [
    "ans = adder(15, 6)\n",
    "print(ans)\n",
    "result = area_sphere(ans)\n",
    "print(result)"
   ]
  },
  {
   "cell_type": "code",
   "execution_count": null,
   "metadata": {},
   "outputs": [],
   "source": [
    "# waf to count the number of words in a sentence\n",
    "def word_count(sentence):\n",
    "    words= sentence.split()\n",
    "    return len(words)\n",
    "\n",
    "sentence = \"I am a student\"\n",
    "print(word_count(sentence))\n",
    "\n",
    "sentence = \"this is a long sentence with many words, okay?\"\n",
    "size = word_count(sentence)\n",
    "print(f'total words:{size}')"
   ]
  },
  {
   "cell_type": "code",
   "execution_count": null,
   "metadata": {},
   "outputs": [],
   "source": [
    "# required positional parameter\n",
    "def multiplier(a,b,c,d):\n",
    "    ans = a*b*c*d\n",
    "    return ans"
   ]
  },
  {
   "cell_type": "code",
   "execution_count": null,
   "metadata": {},
   "outputs": [],
   "source": [
    "a = 20\n",
    "b = 10\n",
    "c = 30\n",
    "d = 50\n",
    "multiplier(a,b,c,d)"
   ]
  },
  {
   "cell_type": "code",
   "execution_count": null,
   "metadata": {},
   "outputs": [],
   "source": [
    "print(multiplier(1,2,3,4))\n",
    "print(multiplier(a=2,b=3,c=4,d=5)) # keyword argument\n",
    "print(multiplier(b=4,a=3,c=1,d=5))# keyword argument in any order\n",
    "print(multiplier(1,2,c=4,d=5)) # mix of position and keyword argument"
   ]
  },
  {
   "cell_type": "code",
   "execution_count": null,
   "metadata": {},
   "outputs": [],
   "source": [
    "# default parameter\n",
    "def multiplier_v2(a,b,c,d=1):\n",
    "    ans = a*b*c*d\n",
    "    return ans"
   ]
  },
  {
   "cell_type": "code",
   "execution_count": null,
   "metadata": {},
   "outputs": [],
   "source": [
    "print(multiplier_v2(1,2,3,4))\n",
    "print(multiplier_v2(1,2,3)) #d is optional(default value = 1)\n",
    "print(multiplier_v2(1,2,3,d=4))\n"
   ]
  },
  {
   "cell_type": "code",
   "execution_count": null,
   "metadata": {},
   "outputs": [],
   "source": [
    "def multiplier_v3(a=1,b=1,c=1,d=1):\n",
    "    ans = a*b*c*d\n",
    "    return ans"
   ]
  },
  {
   "cell_type": "code",
   "execution_count": null,
   "metadata": {},
   "outputs": [],
   "source": [
    "print(multiplier_v3())\n",
    "print(multiplier_v3(10))\n",
    "print(multiplier_v3(b=10))\n",
    "print(multiplier_v3(10,20))\n",
    "print(multiplier_v3(10,c=20))\n",
    "print(multiplier_v3(10,20,30,40))\n",
    "print(multiplier_v3(10,20,d=30,c=40))"
   ]
  },
  {
   "cell_type": "code",
   "execution_count": null,
   "metadata": {},
   "outputs": [],
   "source": [
    "\"hello word\".split(sep='o')# default parameter example in predefine function"
   ]
  },
  {
   "cell_type": "code",
   "execution_count": null,
   "metadata": {},
   "outputs": [],
   "source": [
    "# variable length argument\n",
    "print()\n",
    "print(1)\n",
    "print(1,2,3,4)\n",
    "print(1,2,3,4,5,6,7,8,9,0,1, sep='|')"
   ]
  },
  {
   "cell_type": "code",
   "execution_count": null,
   "metadata": {},
   "outputs": [],
   "source": [
    "def stats(*nums,action='mean'):\n",
    "    if action == 'mean':\n",
    "        total = sum(nums)\n",
    "        size = len(nums)\n",
    "        return total / size\n",
    "    elif action == 'sum':\n",
    "        return sum(nums)\n"
   ]
  },
  {
   "cell_type": "code",
   "execution_count": null,
   "metadata": {},
   "outputs": [],
   "source": [
    "print(stats(1,2,3,4,5,6,7,8,9))\n",
    "print(stats(22,33,44,55,66))\n",
    "print(stats(4,5,1,2))\n",
    "print(stats(4,5,1,2, action='sum'))"
   ]
  },
  {
   "cell_type": "markdown",
   "metadata": {},
   "source": [
    "when defining a function\n",
    "- only one parameter can be variable length parameter(*args)\n",
    "- only one parameter can be variable keyword parameter(**kwargs)\n",
    "- default parameter should be at the end "
   ]
  },
  {
   "cell_type": "code",
   "execution_count": null,
   "metadata": {},
   "outputs": [],
   "source": [
    "# variable length argument\n",
    "def person(**details):\n",
    "    print(\"details of the person\")\n",
    "    for k,v in details.items():\n",
    "        print(f\"{k:10}|{v}\")\n"
   ]
  },
  {
   "cell_type": "code",
   "execution_count": null,
   "metadata": {},
   "outputs": [],
   "source": [
    "person(name = 'ekta')\n",
    "person(name = 'khushi', age=18, city='mumbai', country='india', gender='female')\n",
    "person(name = 'shivi', age=20,city='kanpur',job='HR')"
   ]
  },
  {
   "cell_type": "markdown",
   "metadata": {},
   "source": [
    "lambda expression: simple equation as functions\n",
    "\n",
    "mathematical function:\n",
    "\n",
    "f(x) = x**2+1\n",
    "g(x,y) = x** 2 + y** 2 + 1\n",
    "lambda expression:\n",
    "\n",
    "f = lambda x: x**2 + 1\n",
    "g = lambda x, y: x**2 + 1"
   ]
  },
  {
   "cell_type": "code",
   "execution_count": null,
   "metadata": {},
   "outputs": [],
   "source": [
    "f = lambda x: x**2 + 1"
   ]
  },
  {
   "cell_type": "code",
   "execution_count": null,
   "metadata": {},
   "outputs": [],
   "source": [
    "print(f(10))\n",
    "print(f(2))\n",
    "print(f(100))"
   ]
  },
  {
   "cell_type": "code",
   "execution_count": null,
   "metadata": {},
   "outputs": [],
   "source": [
    "g = lambda x, y: x**2 + y**2 +1\n",
    "print(g(2,3))\n",
    "print(g(3,4))"
   ]
  },
  {
   "cell_type": "code",
   "execution_count": null,
   "metadata": {},
   "outputs": [],
   "source": [
    "data = [1,2,3,4,5,6,7,8,9,10]\n",
    "f = lambda x: x**2 +1\n",
    "list(map(f, data))"
   ]
  },
  {
   "cell_type": "code",
   "execution_count": null,
   "metadata": {},
   "outputs": [],
   "source": [
    "tuple(map(f, data))"
   ]
  },
  {
   "cell_type": "code",
   "execution_count": 24,
   "metadata": {},
   "outputs": [
    {
     "data": {
      "text/plain": [
       "[102, 405, 910, 1617, 2526, 3637, 4950, 6465, 8182, 222]"
      ]
     },
     "execution_count": 24,
     "metadata": {},
     "output_type": "execute_result"
    }
   ],
   "source": [
    "data1 = [1,2,3,4,5,6,7,8,9,10]\n",
    "data2 = [10,20,30,40,50,60,70,80,90,11]\n",
    "g = lambda x, y: x**2 + y**2 + 1\n",
    "list(map(g, data1, data2))"
   ]
  },
  {
   "cell_type": "code",
   "execution_count": 25,
   "metadata": {},
   "outputs": [
    {
     "data": {
      "text/plain": [
       "(102, 405, 910, 1617, 2526, 3637, 4950, 6465, 8182, 222)"
      ]
     },
     "execution_count": 25,
     "metadata": {},
     "output_type": "execute_result"
    }
   ],
   "source": [
    "tuple(map(g,data1, data2))"
   ]
  },
  {
   "cell_type": "code",
   "execution_count": null,
   "metadata": {},
   "outputs": [],
   "source": []
  }
 ],
 "metadata": {
  "kernelspec": {
   "display_name": "base",
   "language": "python",
   "name": "python3"
  },
  "language_info": {
   "codemirror_mode": {
    "name": "ipython",
    "version": 3
   },
   "file_extension": ".py",
   "mimetype": "text/x-python",
   "name": "python",
   "nbconvert_exporter": "python",
   "pygments_lexer": "ipython3",
   "version": "3.12.4"
  }
 },
 "nbformat": 4,
 "nbformat_minor": 2
}
