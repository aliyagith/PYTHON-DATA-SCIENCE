{
 "cells": [
  {
   "cell_type": "code",
   "execution_count": 1,
   "metadata": {},
   "outputs": [],
   "source": [
    "from random import choice, randint"
   ]
  },
  {
   "cell_type": "code",
   "execution_count": 2,
   "metadata": {},
   "outputs": [
    {
     "data": {
      "text/plain": [
       "<bound method Random.choice of <random.Random object at 0x000001E4218C1E40>>"
      ]
     },
     "execution_count": 2,
     "metadata": {},
     "output_type": "execute_result"
    }
   ],
   "source": [
    "choice"
   ]
  },
  {
   "cell_type": "code",
   "execution_count": 3,
   "metadata": {},
   "outputs": [
    {
     "name": "stdout",
     "output_type": "stream",
     "text": [
      "['12', '32', '3', '32', '13', '23']\n",
      "your number is:\n",
      "13\n"
     ]
    }
   ],
   "source": [
    "data = ['12','32','3','32','13','23']\n",
    "print(data)\n",
    "print(\"your number is:\")\n",
    "print(choice(data))"
   ]
  },
  {
   "cell_type": "code",
   "execution_count": 4,
   "metadata": {},
   "outputs": [
    {
     "name": "stdout",
     "output_type": "stream",
     "text": [
      "5\n"
     ]
    }
   ],
   "source": [
    "print(randint(1,6))"
   ]
  },
  {
   "cell_type": "code",
   "execution_count": 14,
   "metadata": {},
   "outputs": [
    {
     "ename": "ValueError",
     "evalue": "Sample larger than population or is negative",
     "output_type": "error",
     "traceback": [
      "\u001b[1;31m---------------------------------------------------------------------------\u001b[0m",
      "\u001b[1;31mValueError\u001b[0m                                Traceback (most recent call last)",
      "Cell \u001b[1;32mIn[14], line 2\u001b[0m\n\u001b[0;32m      1\u001b[0m \u001b[38;5;28;01mfrom\u001b[39;00m \u001b[38;5;21;01mrandom\u001b[39;00m \u001b[38;5;28;01mimport\u001b[39;00m sample, choices\n\u001b[1;32m----> 2\u001b[0m out \u001b[38;5;241m=\u001b[39m sample(data,\u001b[38;5;241m10\u001b[39m)\n\u001b[0;32m      3\u001b[0m \u001b[38;5;28mprint\u001b[39m(\u001b[38;5;241m*\u001b[39mout) \u001b[38;5;66;03m# * here is a trick to unpack the list\u001b[39;00m\n\u001b[0;32m      4\u001b[0m out2 \u001b[38;5;241m=\u001b[39m choices(data, k\u001b[38;5;241m=\u001b[39m\u001b[38;5;241m10\u001b[39m)\n",
      "File \u001b[1;32mc:\\Users\\ARYAN\\miniconda3\\Lib\\random.py:430\u001b[0m, in \u001b[0;36mRandom.sample\u001b[1;34m(self, population, k, counts)\u001b[0m\n\u001b[0;32m    428\u001b[0m randbelow \u001b[38;5;241m=\u001b[39m \u001b[38;5;28mself\u001b[39m\u001b[38;5;241m.\u001b[39m_randbelow\n\u001b[0;32m    429\u001b[0m \u001b[38;5;28;01mif\u001b[39;00m \u001b[38;5;129;01mnot\u001b[39;00m \u001b[38;5;241m0\u001b[39m \u001b[38;5;241m<\u001b[39m\u001b[38;5;241m=\u001b[39m k \u001b[38;5;241m<\u001b[39m\u001b[38;5;241m=\u001b[39m n:\n\u001b[1;32m--> 430\u001b[0m     \u001b[38;5;28;01mraise\u001b[39;00m \u001b[38;5;167;01mValueError\u001b[39;00m(\u001b[38;5;124m\"\u001b[39m\u001b[38;5;124mSample larger than population or is negative\u001b[39m\u001b[38;5;124m\"\u001b[39m)\n\u001b[0;32m    431\u001b[0m result \u001b[38;5;241m=\u001b[39m [\u001b[38;5;28;01mNone\u001b[39;00m] \u001b[38;5;241m*\u001b[39m k\n\u001b[0;32m    432\u001b[0m setsize \u001b[38;5;241m=\u001b[39m \u001b[38;5;241m21\u001b[39m        \u001b[38;5;66;03m# size of a small set minus size of an empty list\u001b[39;00m\n",
      "\u001b[1;31mValueError\u001b[0m: Sample larger than population or is negative"
     ]
    }
   ],
   "source": [
    "from random import sample, choices\n",
    "out = sample(data,10)\n",
    "print(*out) # * here is a trick to unpack the list\n",
    "out2 = choices(data, k=10)\n",
    "print(*out2)"
   ]
  },
  {
   "cell_type": "code",
   "execution_count": 11,
   "metadata": {},
   "outputs": [],
   "source": [
    "from datetime import datetime"
   ]
  },
  {
   "cell_type": "code",
   "execution_count": 12,
   "metadata": {},
   "outputs": [
    {
     "name": "stdout",
     "output_type": "stream",
     "text": [
      "2024-07-26 12:20:34.430452\n"
     ]
    }
   ],
   "source": [
    "print(datetime.now())"
   ]
  },
  {
   "cell_type": "code",
   "execution_count": 13,
   "metadata": {},
   "outputs": [
    {
     "name": "stdout",
     "output_type": "stream",
     "text": [
      "2024-07-26\n",
      "2024-07-26\n",
      "2024-07-26 12:25:40.101286\n",
      "26/07/2024\n"
     ]
    }
   ],
   "source": [
    "# date\n",
    "date = datetime.date(datetime.now())\n",
    "print(date)\n",
    "time = datetime.time(datetime.now())\n",
    "print(date)\n",
    "now = datetime.now()\n",
    "print(now)\n",
    "formatted = now.strftime(\"%d/%m/%Y\")\n",
    "print(formatted)"
   ]
  },
  {
   "cell_type": "code",
   "execution_count": 1,
   "metadata": {},
   "outputs": [],
   "source": [
    "import os"
   ]
  },
  {
   "cell_type": "code",
   "execution_count": 2,
   "metadata": {},
   "outputs": [
    {
     "name": "stdout",
     "output_type": "stream",
     "text": [
      "current location\n",
      "c:\\Users\\ARYAN\\OneDrive\\문서\\PYTHON DATA SCIENCE\n"
     ]
    }
   ],
   "source": [
    "print(\"current location\")\n",
    "print(os.getcwd())"
   ]
  },
  {
   "cell_type": "code",
   "execution_count": 24,
   "metadata": {},
   "outputs": [
    {
     "name": "stdout",
     "output_type": "stream",
     "text": [
      "list all files\n",
      ":.git\n",
      ":aliya.ipynb\n",
      ":condition.ipynb U\n",
      ":function.ipynb\n",
      ":list.ipynb\n",
      ":pattern1.py\n",
      ":pattern2.py\n",
      ":string.ipynb\n"
     ]
    }
   ],
   "source": [
    "print(\"list all files\")\n",
    "content = os.listdir()\n",
    "for item in content:\n",
    "    print(f\":{item}\")"
   ]
  },
  {
   "cell_type": "code",
   "execution_count": 27,
   "metadata": {},
   "outputs": [
    {
     "name": "stdout",
     "output_type": "stream",
     "text": [
      ":AMD\n",
      ":Common Files\n",
      ":desktop.ini\n",
      ":Git\n",
      ":Google\n",
      ":HP\n",
      ":HPCommRecovery\n",
      ":HPPrintScanDoctor\n",
      ":Internet Explorer\n",
      ":McAfee\n",
      ":Microsoft\n",
      ":Microsoft Office\n",
      ":Microsoft Office 15\n",
      ":Microsoft OneDrive\n",
      ":Microsoft Update Health Tools\n",
      ":ModifiableWindowsApps\n",
      ":MySQL\n",
      ":Online Services\n",
      ":Uninstall Information\n",
      ":Windows Defender\n",
      ":Windows Mail\n",
      ":Windows Media Player\n",
      ":Windows NT\n",
      ":Windows Photo Viewer\n",
      ":Windows Sidebar\n",
      ":WindowsApps\n",
      ":WindowsPowerShell\n"
     ]
    }
   ],
   "source": [
    "content= os.listdir(\"c:/program files\")\n",
    "for item in content:\n",
    "    print(f\":{item}\")"
   ]
  },
  {
   "cell_type": "code",
   "execution_count": 38,
   "metadata": {},
   "outputs": [
    {
     "name": "stdout",
     "output_type": "stream",
     "text": [
      "📃AMD\n",
      "📃Common Files\n",
      "📃desktop.ini\n",
      "📃Git\n",
      "📃Google\n",
      "📃HP\n",
      "📃HPCommRecovery\n",
      "📃HPPrintScanDoctor\n",
      "📃Internet Explorer\n",
      "📃McAfee\n",
      "📃Microsoft\n",
      "📃Microsoft Office\n",
      "📃Microsoft Office 15\n",
      "📃Microsoft OneDrive\n",
      "📃Microsoft Update Health Tools\n",
      "📃ModifiableWindowsApps\n",
      "📃MySQL\n",
      "📃Online Services\n",
      "📃Uninstall Information\n",
      "📃Windows Defender\n",
      "📃Windows Mail\n",
      "📃Windows Media Player\n",
      "📃Windows NT\n",
      "📃Windows Photo Viewer\n",
      "📃Windows Sidebar\n",
      "📃WindowsApps\n",
      "📃WindowsPowerShell\n"
     ]
    }
   ],
   "source": [
    "content = os.listdir(\"c:/program files\")\n",
    "for item in content:\n",
    "    path = f\"c:/program files/{item}\"\n",
    "    is_file = os.path.isfile(path)\n",
    "    if is_file:\n",
    "        print(f\"📃{item}\")\n",
    "    else:\n",
    "        print(f\"📃{item}\")"
   ]
  },
  {
   "cell_type": "code",
   "execution_count": null,
   "metadata": {},
   "outputs": [],
   "source": [
    "os.make"
   ]
  },
  {
   "cell_type": "markdown",
   "metadata": {},
   "source": [
    "# User define functions\n",
    "### stage 1: define a function (create)\n",
    "def fun_name([params...]):\n",
    "statements\n",
    "...\n",
    "[return value]\n",
    "Stage 2: call the function(use)\n",
    "fun_name([args...])"
   ]
  },
  {
   "cell_type": "code",
   "execution_count": 7,
   "metadata": {},
   "outputs": [],
   "source": [
    "def adder():\n",
    "    a = int(input(\"enter a numer:\"))\n",
    "    b = int(input(\"enter another number:\"))\n",
    "    total = a+b\n",
    "    print(total)"
   ]
  },
  {
   "cell_type": "code",
   "execution_count": 8,
   "metadata": {},
   "outputs": [
    {
     "name": "stdout",
     "output_type": "stream",
     "text": [
      "475\n",
      "469\n",
      "795\n"
     ]
    }
   ],
   "source": [
    "adder()\n",
    "adder()\n",
    "adder()"
   ]
  },
  {
   "cell_type": "code",
   "execution_count": 28,
   "metadata": {},
   "outputs": [],
   "source": [
    "def adder(a,b):\n",
    "    total = a+b\n",
    "    return total"
   ]
  },
  {
   "cell_type": "code",
   "execution_count": 11,
   "metadata": {},
   "outputs": [
    {
     "name": "stdout",
     "output_type": "stream",
     "text": [
      "22\n"
     ]
    }
   ],
   "source": [
    "adder(10,12)"
   ]
  },
  {
   "cell_type": "code",
   "execution_count": 12,
   "metadata": {},
   "outputs": [
    {
     "name": "stdout",
     "output_type": "stream",
     "text": [
      "3698\n"
     ]
    }
   ],
   "source": [
    "x =1299\n",
    "y = 2399\n",
    "adder(x,y)"
   ]
  },
  {
   "cell_type": "code",
   "execution_count": 30,
   "metadata": {},
   "outputs": [],
   "source": [
    "def simple_interest(p,r,t):\n",
    "    si = p*r*t/100\n",
    "    amount = si+p\n",
    "    return si,amount"
   ]
  },
  {
   "cell_type": "code",
   "execution_count": 31,
   "metadata": {},
   "outputs": [
    {
     "data": {
      "text/plain": [
       "(30000.0, 230000.0)"
      ]
     },
     "execution_count": 31,
     "metadata": {},
     "output_type": "execute_result"
    }
   ],
   "source": [
    "p = 200000\n",
    "r = 1.5\n",
    "t = 10\n",
    "simple_interest(p,r,t)"
   ]
  },
  {
   "cell_type": "code",
   "execution_count": 34,
   "metadata": {},
   "outputs": [],
   "source": [
    "def area_sphere(r):\n",
    "    area = 4*3.14*r**2\n",
    "    print(area)"
   ]
  },
  {
   "cell_type": "code",
   "execution_count": 35,
   "metadata": {},
   "outputs": [
    {
     "name": "stdout",
     "output_type": "stream",
     "text": [
      "1256.0\n",
      "2461.76\n"
     ]
    }
   ],
   "source": [
    "r = 10\n",
    "area_sphere(r)\n",
    "r = 14\n",
    "area_sphere(r)\n"
   ]
  },
  {
   "cell_type": "code",
   "execution_count": 36,
   "metadata": {},
   "outputs": [
    {
     "name": "stdout",
     "output_type": "stream",
     "text": [
      "21\n",
      "5538.96\n",
      "None\n"
     ]
    }
   ],
   "source": [
    "ans = adder(15, 6)\n",
    "print(ans)\n",
    "result = area_sphere(ans)\n",
    "print(result)"
   ]
  },
  {
   "cell_type": "code",
   "execution_count": 37,
   "metadata": {},
   "outputs": [
    {
     "name": "stdout",
     "output_type": "stream",
     "text": [
      "4\n",
      "total words:9\n"
     ]
    }
   ],
   "source": [
    "# waf to count the number of words in a sentence\n",
    "def word_count(sentence):\n",
    "    words= sentence.split()\n",
    "    return len(words)\n",
    "\n",
    "sentence = \"I am a student\"\n",
    "print(word_count(sentence))\n",
    "\n",
    "sentence = \"this is a long sentence with many words, okay?\"\n",
    "size = word_count(sentence)\n",
    "print(f'total words:{size}')"
   ]
  },
  {
   "cell_type": "code",
   "execution_count": null,
   "metadata": {},
   "outputs": [],
   "source": []
  }
 ],
 "metadata": {
  "kernelspec": {
   "display_name": "base",
   "language": "python",
   "name": "python3"
  },
  "language_info": {
   "codemirror_mode": {
    "name": "ipython",
    "version": 3
   },
   "file_extension": ".py",
   "mimetype": "text/x-python",
   "name": "python",
   "nbconvert_exporter": "python",
   "pygments_lexer": "ipython3",
   "version": "3.12.4"
  }
 },
 "nbformat": 4,
 "nbformat_minor": 2
}
