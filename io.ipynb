{
 "cells": [
  {
   "cell_type": "markdown",
   "metadata": {},
   "source": []
  },
  {
   "cell_type": "code",
   "execution_count": 2,
   "metadata": {},
   "outputs": [
    {
     "name": "stdout",
     "output_type": "stream",
     "text": [
      "hello , I am aliya\n"
     ]
    }
   ],
   "source": [
    "print(\"hello , I am aliya\")"
   ]
  },
  {
   "cell_type": "code",
   "execution_count": 5,
   "metadata": {},
   "outputs": [
    {
     "name": "stdout",
     "output_type": "stream",
     "text": [
      "once upon a time\n",
      "there was a monkey\n",
      "sitting on tree\n",
      "to be continued\n"
     ]
    }
   ],
   "source": [
    "print(\"once upon a time\")\n",
    "print (\"there was a monkey\")\n",
    "print(\"sitting on tree\")\n",
    "print(\"to be continued\")\n"
   ]
  },
  {
   "cell_type": "code",
   "execution_count": 4,
   "metadata": {},
   "outputs": [
    {
     "name": "stdout",
     "output_type": "stream",
     "text": [
      "10 20 200\n",
      "10 * 20 = 200\n"
     ]
    }
   ],
   "source": [
    "a = 10\n",
    "b = 20\n",
    "c = a * b\n",
    "print(a,b,c)\n",
    "print(a, \"*\", b, \"=\",c)"
   ]
  },
  {
   "cell_type": "code",
   "execution_count": 8,
   "metadata": {},
   "outputs": [
    {
     "name": "stdout",
     "output_type": "stream",
     "text": [
      "Name: kavya , Age: 25  ,JOB: SDE 1\n"
     ]
    }
   ],
   "source": [
    "name = \"kavya\"\n",
    "age = 25\n",
    "job = \"SDE 1\"\n",
    "print(\"Name:\",name,\", Age:\",age,\" ,JOB:\", job)"
   ]
  },
  {
   "cell_type": "code",
   "execution_count": 9,
   "metadata": {},
   "outputs": [
    {
     "name": "stdout",
     "output_type": "stream",
     "text": [
      "Name: kavya\n",
      "Age: 25\n",
      "JOB: SDE 1\n"
     ]
    }
   ],
   "source": [
    "print(\"Name:\" , name)\n",
    "print(\"Age:\" , age)\n",
    "print(\"JOB:\" , job)\n"
   ]
  },
  {
   "cell_type": "code",
   "execution_count": 16,
   "metadata": {},
   "outputs": [
    {
     "name": "stdout",
     "output_type": "stream",
     "text": [
      "30000.0\n",
      "simple interest calculator\n",
      "principle=120000\n",
      "rate=2.5\n",
      "time = 10\n",
      "simple interest = 30000.0\n"
     ]
    }
   ],
   "source": [
    "p = 120000\n",
    "r =2.5\n",
    "t = 10\n",
    "si = p*r*t/100\n",
    "print(si)\n",
    "print(\"simple interest calculator\")\n",
    "print(f'principle={p}')\n",
    "print(f'rate={r}')\n",
    "print(f'time = {t}')\n",
    "print(f'simple interest = {si}')\n",
    "\n"
   ]
  },
  {
   "cell_type": "code",
   "execution_count": 27,
   "metadata": {},
   "outputs": [
    {
     "name": "stdout",
     "output_type": "stream",
     "text": [
      "simple interest calculator\n",
      "------------------------------\n",
      "principle             120K\n",
      "rate                  2.5%\n",
      "time                   10yrs\n",
      "------------------------------\n",
      "simple interest        30.0K\n",
      "------------------------------\n"
     ]
    }
   ],
   "source": [
    "print(\"simple interest calculator\")\n",
    "print(\"-\"*30)\n",
    "print(f'principle {p//1000:15}K')\n",
    "print(f'rate {r:20}%')\n",
    "print(f'time {t:20}yrs')\n",
    "print(\"-\"*30)\n",
    "print(f'simple interest   {si/1000:9}K')\n",
    "print(\"-\"*30)\n"
   ]
  },
  {
   "cell_type": "code",
   "execution_count": 7,
   "metadata": {},
   "outputs": [
    {
     "name": "stdout",
     "output_type": "stream",
     "text": [
      "238.0\n",
      "simpke interest calculator\n",
      "principle=14000\n",
      "rate=1.7\n",
      "time=10\n",
      "simple interest=238.0\n"
     ]
    }
   ],
   "source": [
    "p = 14000\n",
    "r = 1.7\n",
    "t = 10\n",
    "si = p*r*t/1000\n",
    "print(si)\n",
    "print(\"simpke interest calculator\")\n",
    "print(f'principle={p}')\n",
    "print(f'rate={r}')\n",
    "print(f'time={t}')\n",
    "print(f'simple interest={si}')"
   ]
  },
  {
   "cell_type": "code",
   "execution_count": 35,
   "metadata": {},
   "outputs": [
    {
     "name": "stdout",
     "output_type": "stream",
     "text": [
      "kalki\n",
      "you may like it\n"
     ]
    }
   ],
   "source": [
    "fav_movie = input(\"Plz enter fav movie\")\n",
    "print(fav_movie)\n",
    "print(\"you may like it\")"
   ]
  },
  {
   "cell_type": "code",
   "execution_count": 12,
   "metadata": {},
   "outputs": [
    {
     "name": "stdout",
     "output_type": "stream",
     "text": [
      "kalki\n",
      "you are the best father\n"
     ]
    }
   ],
   "source": [
    "fav_movie = input(\"please enter the fav movie\")\n",
    "print(fav_movie)\n",
    "print(\"you are the best father\")"
   ]
  },
  {
   "cell_type": "code",
   "execution_count": 32,
   "metadata": {},
   "outputs": [
    {
     "name": "stdout",
     "output_type": "stream",
     "text": [
      "result is\n",
      "1010\n"
     ]
    }
   ],
   "source": [
    "a = input(\"enter a number\")\n",
    "b = int(input(\"enter another number\"))\n",
    "print(\"result is\")\n",
    "print(a + b)"
   ]
  },
  {
   "cell_type": "code",
   "execution_count": 10,
   "metadata": {},
   "outputs": [
    {
     "name": "stdout",
     "output_type": "stream",
     "text": [
      "grade isA\n"
     ]
    }
   ],
   "source": [
    "# if elif ladder\n",
    "marks=90\n",
    "if marks>85:\n",
    "    grade='A' \n",
    "elif marks>70:\n",
    "    grade='B' \n",
    "elif marks>60:\n",
    "    Grade='C'  \n",
    "elif marks>50:\n",
    "      grade='D'\n",
    "else:\n",
    "     grade='f'     \n",
    "print(f\"grade is{grade}\")   "
   ]
  },
  {
   "cell_type": "code",
   "execution_count": 2,
   "metadata": {},
   "outputs": [
    {
     "name": "stdout",
     "output_type": "stream",
     "text": [
      "What would you like to eate\n",
      "menu\n",
      "1. Pizza\n",
      "2. momo\n",
      "enter a number\n"
     ]
    }
   ],
   "source": [
    "# match case (not similar to switch case)\n",
    "print(\"What would you like to eat\")\n",
    "print(\"menu\")\n",
    "print(\"1. Pizza\")\n",
    "print(\"2. momo\")\n",
    "print(\"enter a number\")\n",
    "ch = int(input(\">>>\"))\n",
    "match ch:\n",
    "     case 1: \n",
    "          print(\"Your order is Pizza \\n total amt = 400\")\n",
    "     case 2:\n",
    "          print(\"Your order is momo \\n total amt = 340\")\n",
    "     case _:\n",
    "          print(\"Invalid choice\")\n"
   ]
  },
  {
   "cell_type": "code",
   "execution_count": 20,
   "metadata": {},
   "outputs": [
    {
     "name": "stdout",
     "output_type": "stream",
     "text": [
      "Invalid username\n"
     ]
    }
   ],
   "source": [
    "# nested if else\n",
    "un = input('enter a username')\n",
    "pw = input('enter a password')\n",
    "if un != 'admin':\n",
    "      if un == 'admin':\n",
    "         if pw == 'admin':\n",
    "            print(\"welcome, admin\")\n",
    "         else:\n",
    "            print(\"wrong password\")   \n",
    "      else:           \n",
    "            print(\"Invalid username\")\n",
    "else:      \n",
    "      print(\"enter valid details\")"
   ]
  },
  {
   "cell_type": "code",
   "execution_count": 7,
   "metadata": {},
   "outputs": [
    {
     "name": "stdout",
     "output_type": "stream",
     "text": [
      "aliya\n",
      "aliya\n",
      "aliya\n",
      "aliya\n",
      "aliya\n",
      "aliya\n"
     ]
    }
   ],
   "source": [
    "for i in range(6):\n",
    "    print(\"aliya\")"
   ]
  },
  {
   "cell_type": "code",
   "execution_count": 22,
   "metadata": {},
   "outputs": [
    {
     "name": "stdout",
     "output_type": "stream",
     "text": [
      "aryan\n",
      "aryan\n",
      "aryan\n",
      "aryan\n",
      "aryan\n",
      "aryan\n",
      "aryan\n",
      "aryan\n",
      "aryan\n",
      "aryan\n",
      "aryan\n",
      "aryan\n"
     ]
    }
   ],
   "source": [
    "for i in range(12):\n",
    "    print('aryan')"
   ]
  },
  {
   "cell_type": "code",
   "execution_count": 8,
   "metadata": {},
   "outputs": [
    {
     "name": "stdout",
     "output_type": "stream",
     "text": [
      "h\n",
      "e\n",
      "l\n",
      "l\n",
      "o\n",
      " \n",
      "w\n",
      "o\n",
      "r\n",
      "d\n"
     ]
    }
   ],
   "source": [
    "# using loop\n",
    "a = \"hello word\"\n",
    "for x in a:\n",
    "    print(x)"
   ]
  },
  {
   "cell_type": "code",
   "execution_count": 11,
   "metadata": {},
   "outputs": [
    {
     "name": "stdout",
     "output_type": "stream",
     "text": [
      "1\n",
      "4\n",
      "7\n",
      "10\n",
      "13\n",
      "16\n",
      "19\n"
     ]
    }
   ],
   "source": [
    "for i in range(1,21,3):\n",
    "    print(i)"
   ]
  },
  {
   "cell_type": "code",
   "execution_count": 12,
   "metadata": {},
   "outputs": [
    {
     "name": "stdout",
     "output_type": "stream",
     "text": [
      "1\n",
      "2\n",
      "3\n",
      "4\n",
      "5\n",
      "6\n",
      "7\n",
      "8\n",
      "9\n",
      "10\n"
     ]
    }
   ],
   "source": [
    "\n",
    "for i in range(1,11):\n",
    "    print(i)"
   ]
  },
  {
   "cell_type": "code",
   "execution_count": 24,
   "metadata": {},
   "outputs": [
    {
     "name": "stdout",
     "output_type": "stream",
     "text": [
      "1\n",
      "3\n",
      "5\n",
      "7\n",
      "9\n",
      "11\n",
      "13\n",
      "15\n",
      "17\n",
      "19\n",
      "21\n",
      "23\n",
      "25\n",
      "27\n",
      "29\n"
     ]
    }
   ],
   "source": [
    "for i in range(31):\n",
    "    if i%2!= 0:\n",
    "          print(i)"
   ]
  },
  {
   "cell_type": "code",
   "execution_count": 27,
   "metadata": {},
   "outputs": [
    {
     "ename": "IndentationError",
     "evalue": "expected an indented block after 'if' statement on line 2 (3273865747.py, line 3)",
     "output_type": "error",
     "traceback": [
      "\u001b[1;36m  Cell \u001b[1;32mIn[27], line 3\u001b[1;36m\u001b[0m\n\u001b[1;33m    print(i)\u001b[0m\n\u001b[1;37m    ^\u001b[0m\n\u001b[1;31mIndentationError\u001b[0m\u001b[1;31m:\u001b[0m expected an indented block after 'if' statement on line 2\n"
     ]
    }
   ],
   "source": []
  },
  {
   "cell_type": "code",
   "execution_count": 28,
   "metadata": {},
   "outputs": [
    {
     "ename": "IndentationError",
     "evalue": "unexpected indent (1772773303.py, line 2)",
     "output_type": "error",
     "traceback": [
      "\u001b[1;36m  Cell \u001b[1;32mIn[28], line 2\u001b[1;36m\u001b[0m\n\u001b[1;33m    i = 0\u001b[0m\n\u001b[1;37m    ^\u001b[0m\n\u001b[1;31mIndentationError\u001b[0m\u001b[1;31m:\u001b[0m unexpected indent\n"
     ]
    }
   ],
   "source": [
    "# whileloop\n",
    "i=0\n",
    "while i<= 100:\n",
    "  print(\"I can do it\")\n",
    "  print(i)\n",
    "  \n",
    "\n"
   ]
  },
  {
   "cell_type": "code",
   "execution_count": 1,
   "metadata": {},
   "outputs": [
    {
     "name": "stdout",
     "output_type": "stream",
     "text": [
      "[4, 16, 36, 64, 100]\n"
     ]
    }
   ],
   "source": [
    "a = [2,4,6,8,10]\n",
    "lst= []\n",
    "for i in a:\n",
    "       lst.append(i**2)\n",
    "print(lst)"
   ]
  },
  {
   "cell_type": "code",
   "execution_count": 1,
   "metadata": {},
   "outputs": [
    {
     "name": "stdout",
     "output_type": "stream",
     "text": [
      "[8]\n",
      "[8, 64]\n",
      "[8, 64, 125]\n",
      "[8, 64, 125, 216]\n",
      "[8, 64, 125, 216, 512]\n",
      "[8, 64, 125, 216, 512, 1000]\n"
     ]
    }
   ],
   "source": [
    "x = [2,4,5,6,8,10]\n",
    "lst = []\n",
    "for i in x:\n",
    "    lst.append(i**3)\n",
    "    print(lst)"
   ]
  },
  {
   "cell_type": "code",
   "execution_count": null,
   "metadata": {},
   "outputs": [],
   "source": []
  }
 ],
 "metadata": {
  "kernelspec": {
   "display_name": "base",
   "language": "python",
   "name": "python3"
  },
  "language_info": {
   "codemirror_mode": {
    "name": "ipython",
    "version": 3
   },
   "file_extension": ".py",
   "mimetype": "text/x-python",
   "name": "python",
   "nbconvert_exporter": "python",
   "pygments_lexer": "ipython3",
   "version": "3.12.4"
  }
 },
 "nbformat": 4,
 "nbformat_minor": 2
}
