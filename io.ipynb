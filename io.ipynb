{
 "cells": [
  {
   "cell_type": "markdown",
   "metadata": {},
   "source": [
    "### PYTHON DATATYPE\n",
    "- int          | -1 10 -28            |integer\n",
    "- float        | -2 1.3 -2.3 1.5010   |float\n",
    "- bool         | true flase           |boolean\n",
    "- str          | 'hello','hello'      |string\n",
    "- none type    | none                 |no value\n",
    "- list         | []  [1,2,3]          | similar to arry\n",
    "- tuple        | [] {1,2,3}           | similar to arry\n",
    "- dict         | {'a'1 apple}         | similar to hash"
   ]
  },
  {
   "cell_type": "code",
   "execution_count": 1,
   "metadata": {},
   "outputs": [
    {
     "name": "stdout",
     "output_type": "stream",
     "text": [
      "once upon a time\n",
      "There ws a monkey\n",
      "sitting on a trees\n",
      "to be continued\n"
     ]
    }
   ],
   "source": [
    "print(\"once upon a time\")\n",
    "print(\"There ws a monkey\")\n",
    "print(\"sitting on a trees\")\n",
    "print(\"to be continued\")"
   ]
  },
  {
   "cell_type": "code",
   "execution_count": 4,
   "metadata": {},
   "outputs": [
    {
     "name": "stdout",
     "output_type": "stream",
     "text": [
      "20 10 200\n",
      "20 * 10 * 200\n"
     ]
    }
   ],
   "source": [
    "a = 20\n",
    "b = 10\n",
    "c = a * b\n",
    "print(a,b,c)\n",
    "print(a, \"*\", b,\"*\",c)"
   ]
  },
  {
   "cell_type": "code",
   "execution_count": 5,
   "metadata": {},
   "outputs": [
    {
     "name": "stdout",
     "output_type": "stream",
     "text": [
      "Hello, I am aliya\n"
     ]
    }
   ],
   "source": [
    "print(\"Hello, I am aliya\")\n"
   ]
  },
  {
   "cell_type": "code",
   "execution_count": 7,
   "metadata": {},
   "outputs": [
    {
     "name": "stdout",
     "output_type": "stream",
     "text": [
      "name: umang age: 21 job: HR\n"
     ]
    }
   ],
   "source": [
    "name = 'umang'\n",
    "age = 21\n",
    "job = 'HR'\n",
    "print(\"name:\",name,\"age:\",age,\"job:\",job)"
   ]
  },
  {
   "cell_type": "code",
   "execution_count": 8,
   "metadata": {},
   "outputs": [
    {
     "name": "stdout",
     "output_type": "stream",
     "text": [
      "Name: umang\n",
      "Age: 21\n",
      "job: HR\n"
     ]
    }
   ],
   "source": [
    "print(\"Name:\",name)\n",
    "print(\"Age:\",age)\n",
    "print(\"job:\",job)"
   ]
  },
  {
   "cell_type": "code",
   "execution_count": 9,
   "metadata": {},
   "outputs": [
    {
     "name": "stdout",
     "output_type": "stream",
     "text": [
      "simple interest calculator\n",
      "📃📃📃📃📃📃📃📃📃📃📃\n",
      "principles = 120000\n",
      "rate = 2.5\n",
      "time = 10\n",
      "📃📃📃📃📃📃📃📃📃📃\n",
      "simple interest = 30000.0\n"
     ]
    }
   ],
   "source": [
    "p = 120000\n",
    "r = 2.5\n",
    "t = 10\n",
    "si = p*r*t/100\n",
    "print(\"simple interest calculator\")\n",
    "print(\"📃\"*11)\n",
    "print(f'principles = {p}')\n",
    "print(f'rate = {r}')\n",
    "print(f'time = {t}')\n",
    "print(\"📃\"*10)\n",
    "print(f'simple interest = {si}')"
   ]
  },
  {
   "cell_type": "code",
   "execution_count": 10,
   "metadata": {},
   "outputs": [
    {
     "name": "stdout",
     "output_type": "stream",
     "text": [
      "simple interest calculator\n",
      "------------------------------\n",
      "principles =             120k\n",
      "rate =                  2.5%\n",
      "time =                   10yrs\n",
      "------------------------------\n",
      "simple interest = 30.0k\n",
      "------------------------------\n"
     ]
    }
   ],
   "source": [
    "print(\"simple interest calculator\")\n",
    "print(\"-\"*30)\n",
    "print(f'principles = {p//1000:15}k')\n",
    "print(f'rate = {r:20}%')\n",
    "print(f'time = {t:20}yrs')\n",
    "print(\"-\"*30)\n",
    "print(f'simple interest = {si/1000:3}k')\n",
    "print(\"-\"*30)"
   ]
  },
  {
   "cell_type": "code",
   "execution_count": 1,
   "metadata": {},
   "outputs": [
    {
     "name": "stdout",
     "output_type": "stream",
     "text": [
      "kalki\n",
      "You may like it but I don't care\n"
     ]
    }
   ],
   "source": [
    "fav_movies = input(\"pls enter the movie\")\n",
    "print(fav_movies)\n",
    "print(\"You may like it but I don't care\")"
   ]
  },
  {
   "cell_type": "code",
   "execution_count": 5,
   "metadata": {},
   "outputs": [
    {
     "name": "stdout",
     "output_type": "stream",
     "text": [
      "result.is\n",
      "2334\n"
     ]
    }
   ],
   "source": [
    "a = input(\"enter the no.\")\n",
    "b = input(\"enter the no.\")\n",
    "print(\"result is\")\n",
    "print(a+b)"
   ]
  },
  {
   "cell_type": "code",
   "execution_count": 4,
   "metadata": {},
   "outputs": [
    {
     "name": "stdout",
     "output_type": "stream",
     "text": [
      "45\n"
     ]
    }
   ],
   "source": [
    "a = (input(\"enter a no.\"))\n",
    "b = (input(\"enter a no.\"))\n",
    "a = int(a)\n",
    "b = int(b)\n",
    "type(a)\n",
    "type(b)\n",
    "print(a+b)"
   ]
  },
  {
   "cell_type": "code",
   "execution_count": 6,
   "metadata": {},
   "outputs": [
    {
     "name": "stdout",
     "output_type": "stream",
     "text": [
      "area of sphere is 113.04\n"
     ]
    }
   ],
   "source": [
    "pi = 3.14\n",
    "r = 3\n",
    "area = 4*pi*r**2\n",
    "print(\"area of sphere is\",area)"
   ]
  }
 ],
 "metadata": {
  "kernelspec": {
   "display_name": "base",
   "language": "python",
   "name": "python3"
  },
  "language_info": {
   "codemirror_mode": {
    "name": "ipython",
    "version": 3
   },
   "file_extension": ".py",
   "mimetype": "text/x-python",
   "name": "python",
   "nbconvert_exporter": "python",
   "pygments_lexer": "ipython3",
   "version": "3.12.4"
  }
 },
 "nbformat": 4,
 "nbformat_minor": 2
}
