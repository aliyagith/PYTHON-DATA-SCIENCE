{
 "cells": [
  {
   "cell_type": "markdown",
   "metadata": {},
   "source": []
  },
  {
   "cell_type": "code",
   "execution_count": 2,
   "metadata": {},
   "outputs": [
    {
     "name": "stdout",
     "output_type": "stream",
     "text": [
      "hello , I am aliya\n"
     ]
    }
   ],
   "source": [
    "print(\"hello , I am aliya\")"
   ]
  },
  {
   "cell_type": "code",
   "execution_count": 5,
   "metadata": {},
   "outputs": [
    {
     "name": "stdout",
     "output_type": "stream",
     "text": [
      "once upon a time\n",
      "there was a monkey\n",
      "sitting on tree\n",
      "to be continued\n"
     ]
    }
   ],
   "source": [
    "print(\"once upon a time\")\n",
    "print (\"there was a monkey\")\n",
    "print(\"sitting on tree\")\n",
    "print(\"to be continued\")\n"
   ]
  },
  {
   "cell_type": "code",
   "execution_count": 4,
   "metadata": {},
   "outputs": [
    {
     "name": "stdout",
     "output_type": "stream",
     "text": [
      "10 20 200\n",
      "10 * 20 = 200\n"
     ]
    }
   ],
   "source": [
    "a = 10\n",
    "b = 20\n",
    "c = a * b\n",
    "print(a,b,c)\n",
    "print(a, \"*\", b, \"=\",c)"
   ]
  },
  {
   "cell_type": "code",
   "execution_count": 8,
   "metadata": {},
   "outputs": [
    {
     "name": "stdout",
     "output_type": "stream",
     "text": [
      "Name: kavya , Age: 25  ,JOB: SDE 1\n"
     ]
    }
   ],
   "source": [
    "name = \"kavya\"\n",
    "age = 25\n",
    "job = \"SDE 1\"\n",
    "print(\"Name:\", name,\", Age:\",age,\" ,JOB:\", job)"
   ]
  },
  {
   "cell_type": "code",
   "execution_count": 9,
   "metadata": {},
   "outputs": [
    {
     "name": "stdout",
     "output_type": "stream",
     "text": [
      "Name: kavya\n",
      "Age: 25\n",
      "JOB: SDE 1\n"
     ]
    }
   ],
   "source": [
    "print(\"Name:\" , name)\n",
    "print(\"Age:\" , age)\n",
    "print(\"JOB:\" , job)\n"
   ]
  },
  {
   "cell_type": "code",
   "execution_count": 16,
   "metadata": {},
   "outputs": [
    {
     "name": "stdout",
     "output_type": "stream",
     "text": [
      "30000.0\n",
      "simple interest calculator\n",
      "principle=120000\n",
      "rate=2.5\n",
      "time = 10\n",
      "simple interest = 30000.0\n"
     ]
    }
   ],
   "source": [
    "p = 120000\n",
    "r =2.5\n",
    "t = 10\n",
    "si = p*r*t/100\n",
    "print(si)\n",
    "print(\"simple interest calculator\")\n",
    "print(f'principle={p}')\n",
    "print(f'rate={r}')\n",
    "print(f'time = {t}')\n",
    "print(f'simple interest = {si}')\n",
    "\n"
   ]
  },
  {
   "cell_type": "code",
   "execution_count": 27,
   "metadata": {},
   "outputs": [
    {
     "name": "stdout",
     "output_type": "stream",
     "text": [
      "simple interest calculator\n",
      "------------------------------\n",
      "principle             120K\n",
      "rate                  2.5%\n",
      "time                   10yrs\n",
      "------------------------------\n",
      "simple interest        30.0K\n",
      "------------------------------\n"
     ]
    }
   ],
   "source": [
    "print(\"simple interest calculator\")\n",
    "print(\"-\"*30)\n",
    "print(f'principle {p//1000:15}K')\n",
    "print(f'rate {r:20}%')\n",
    "print(f'time {t:20}yrs')\n",
    "print(\"-\"*30)\n",
    "print(f'simple interest   {si/1000:9}K')\n",
    "print(\"-\"*30)\n"
   ]
  },
  {
   "cell_type": "code",
   "execution_count": 35,
   "metadata": {},
   "outputs": [
    {
     "name": "stdout",
     "output_type": "stream",
     "text": [
      "kalki\n",
      "you may like it\n"
     ]
    }
   ],
   "source": [
    "fav_movie = input(\"Plz enter fav movie\")\n",
    "print(fav_movie)\n",
    "print(\"you may like it\")"
   ]
  },
  {
   "cell_type": "code",
   "execution_count": 32,
   "metadata": {},
   "outputs": [
    {
     "name": "stdout",
     "output_type": "stream",
     "text": [
      "result is\n",
      "1010\n"
     ]
    }
   ],
   "source": [
    "a = input(\"enter a number\")\n",
    "b = int(input(\"enter another number\"))\n",
    "print(\"result is\")\n",
    "print(a + b)"
   ]
  },
  {
   "cell_type": "code",
   "execution_count": null,
   "metadata": {},
   "outputs": [],
   "source": []
  }
 ],
 "metadata": {
  "kernelspec": {
   "display_name": "base",
   "language": "python",
   "name": "python3"
  },
  "language_info": {
   "codemirror_mode": {
    "name": "ipython",
    "version": 3
   },
   "file_extension": ".py",
   "mimetype": "text/x-python",
   "name": "python",
   "nbconvert_exporter": "python",
   "pygments_lexer": "ipython3",
   "version": "3.12.4"
  }
 },
 "nbformat": 4,
 "nbformat_minor": 2
}
