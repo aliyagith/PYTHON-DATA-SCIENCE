{
 "cells": [
  {
   "cell_type": "markdown",
   "metadata": {},
   "source": [
    "# CONDITIONS OF PYTHON\n",
    "- block of code\n",
    "    -\n",
    "- if condition\n",
    "- if else condition\n",
    "- if elif ladder\n",
    "- nested if else\n",
    "- short hand if else\n",
    "- match case"
   ]
  },
  {
   "cell_type": "code",
   "execution_count": 1,
   "metadata": {},
   "outputs": [
    {
     "name": "stdout",
     "output_type": "stream",
     "text": [
      "a is greater then 5\n",
      "hi\n",
      "bye\n"
     ]
    }
   ],
   "source": [
    "a = -3\n",
    "a > 5 # block of code\n",
    "print(\"a is greater then 5\")\n",
    "print('hi')\n",
    "print('bye')"
   ]
  },
  {
   "cell_type": "code",
   "execution_count": 2,
   "metadata": {},
   "outputs": [
    {
     "name": "stdout",
     "output_type": "stream",
     "text": [
      "very good, you have know how to type long word\n"
     ]
    }
   ],
   "source": [
    "word = input(\"enter the long word\")\n",
    "if len(word)> 10:\n",
    "    print(\"very good, you have know how to type long word\")"
   ]
  },
  {
   "cell_type": "code",
   "execution_count": 3,
   "metadata": {},
   "outputs": [
    {
     "name": "stdout",
     "output_type": "stream",
     "text": [
      "📃not:100\n"
     ]
    }
   ],
   "source": [
    "n = (12,21,32)\n",
    "if sum(n)>100:\n",
    "    print(\"yay 100\")\n",
    "else:\n",
    "    print(\"📃not:100\")"
   ]
  },
  {
   "cell_type": "code",
   "execution_count": 4,
   "metadata": {},
   "outputs": [
    {
     "name": "stdout",
     "output_type": "stream",
     "text": [
      "grade is B\n"
     ]
    }
   ],
   "source": [
    "# if elif ladder\n",
    "marks = 80\n",
    "if marks>85:\n",
    "    grade='A'\n",
    "elif marks>70:\n",
    "    grade='B'\n",
    "elif marks>75:\n",
    "    grade='c'\n",
    "elif marks>60:\n",
    "    grade='D'\n",
    "else:\n",
    "    grade = 'f'\n",
    "print(f\"grade is {grade}\")\n"
   ]
  },
  {
   "cell_type": "code",
   "execution_count": 5,
   "metadata": {},
   "outputs": [
    {
     "name": "stdout",
     "output_type": "stream",
     "text": [
      "c24 is the largest\n"
     ]
    }
   ],
   "source": [
    "# find the largest no.\n",
    "a = 10\n",
    "b = 20\n",
    "c = 24\n",
    "if a>b and a>c:\n",
    "    print(f\"A{a} is the largest\")\n",
    "elif b>a and b>c:\n",
    "    print(f\"a{b} is the largest\")\n",
    "else:\n",
    "    print(f\"c{c} is the largest\")"
   ]
  },
  {
   "cell_type": "code",
   "execution_count": 9,
   "metadata": {},
   "outputs": [
    {
     "name": "stdout",
     "output_type": "stream",
     "text": [
      "📃Invalid username\n"
     ]
    }
   ],
   "source": [
    "# nested if else\n",
    "un = input('enter the username')\n",
    "pw = input('enter the password')\n",
    "if un != '' and pw !='':\n",
    "    if un =='admin':\n",
    "        if pw =='admin':\n",
    "            print(\"📃 welcome, Admin\")\n",
    "        else:\n",
    "            print(\"📃wrong Password\")\n",
    "    else:\n",
    "        print(\"📃Invalid username\")\n",
    "else:\n",
    "    print(\"📃Enter valid details📃\")"
   ]
  },
  {
   "cell_type": "code",
   "execution_count": 7,
   "metadata": {},
   "outputs": [
    {
     "name": "stdout",
     "output_type": "stream",
     "text": [
      "📃\n",
      "📃\n"
     ]
    }
   ],
   "source": [
    "# short hand if else\n",
    "a = 10\n",
    "print(\"📃\") if a >=10 else print(\"❌\")\n",
    "print(\"📃\" if a >=10 else \"❌\")"
   ]
  },
  {
   "cell_type": "code",
   "execution_count": 8,
   "metadata": {},
   "outputs": [
    {
     "name": "stdout",
     "output_type": "stream",
     "text": [
      "what would you like to eat\n",
      "menu\n",
      "1. pizza🍕\n",
      "2. momo\n",
      "3. pasta🍝\n",
      "4. sandwich\n",
      "enter a number: \n"
     ]
    },
    {
     "ename": "ValueError",
     "evalue": "invalid literal for int() with base 10: ''",
     "output_type": "error",
     "traceback": [
      "\u001b[1;31m---------------------------------------------------------------------------\u001b[0m",
      "\u001b[1;31mValueError\u001b[0m                                Traceback (most recent call last)",
      "Cell \u001b[1;32mIn[8], line 9\u001b[0m\n\u001b[0;32m      7\u001b[0m \u001b[38;5;28mprint\u001b[39m(\u001b[38;5;124m\"\u001b[39m\u001b[38;5;124m4. sandwich\u001b[39m\u001b[38;5;124m\"\u001b[39m)\n\u001b[0;32m      8\u001b[0m \u001b[38;5;28mprint\u001b[39m(\u001b[38;5;124m\"\u001b[39m\u001b[38;5;124menter a number: \u001b[39m\u001b[38;5;124m\"\u001b[39m)\n\u001b[1;32m----> 9\u001b[0m ch \u001b[38;5;241m=\u001b[39m \u001b[38;5;28mint\u001b[39m(\u001b[38;5;28minput\u001b[39m(\u001b[38;5;124m\"\u001b[39m\u001b[38;5;124m>>>\u001b[39m\u001b[38;5;124m\"\u001b[39m))\n\u001b[0;32m     10\u001b[0m \u001b[38;5;28;01mmatch\u001b[39;00m ch:\n\u001b[0;32m     11\u001b[0m     \u001b[38;5;28;01mcase\u001b[39;00m \u001b[38;5;241m1\u001b[39m:\n\u001b[0;32m     12\u001b[0m         \u001b[38;5;28mprint\u001b[39m(\u001b[38;5;124m\"\u001b[39m\u001b[38;5;124myour order is pizza🍕 \u001b[39m\u001b[38;5;130;01m\\n\u001b[39;00m\u001b[38;5;124mtotal amt = 400\u001b[39m\u001b[38;5;124m\"\u001b[39m)\n\u001b[1;32m   (...)\u001b[0m\n\u001b[0;32m     19\u001b[0m     \u001b[38;5;28;01mcase\u001b[39;00m\u001b[38;5;250m \u001b[39m\u001b[38;5;28;01m_\u001b[39;00m:\n\u001b[0;32m     20\u001b[0m         \u001b[38;5;28mprint\u001b[39m(\u001b[38;5;124m\"\u001b[39m\u001b[38;5;124mInvalid choice\u001b[39m\u001b[38;5;124m\"\u001b[39m)\n",
      "\u001b[1;31mValueError\u001b[0m: invalid literal for int() with base 10: ''"
     ]
    }
   ],
   "source": [
    "# match case (not similar to switch case)\n",
    "print(\"what would you like to eat\")\n",
    "print(\"menu\")\n",
    "print(\"1. pizza🍕\")\n",
    "print(\"2. momo\")\n",
    "print(\"3. pasta🍝\")\n",
    "print(\"4. sandwich\")\n",
    "print(\"enter a number: \")\n",
    "ch = int(input(\">>>\"))\n",
    "match ch:\n",
    "    case 1:\n",
    "        print(\"your order is pizza🍕 \\ntotal amt = 400\")\n",
    "    case 2:\n",
    "        print(\"your order is momo \\ntotal amt = 199\")\n",
    "    case 3:\n",
    "        print(\"your order is pasta🍝 \\n amt = 299\")\n",
    "    case 4:\n",
    "        print(\"your order is sandwich \\ntotal amt = 99\")\n",
    "    case _:\n",
    "        print(\"Invalid choice\")"
   ]
  },
  {
   "cell_type": "code",
   "execution_count": null,
   "metadata": {},
   "outputs": [],
   "source": [
    "print(\"what would you like to eat\")\n",
    "print(\"menu\")\n",
    "print(\"1. pizza🍕\")\n",
    "print(\"2. pasta\")\n",
    "print(\"3. momo\")\n",
    "print(\"enter a number:\")\n",
    "ch = int(input(\">>>\"))\n",
    "if ch == 1:\n",
    "    print(\"your order is pizza🍕 \\ntotal amt = 400\")\n",
    "elif ch == 2:\n",
    "    print(\"your order is pasta \\ntotal amt = 350\")\n",
    "elif ch == 3:\n",
    "    print(\"your order is momo \\ntotal amt = 99\")\n",
    "else:\n",
    "    print(\"INVALID CHOICES\")"
   ]
  }
 ],
 "metadata": {
  "kernelspec": {
   "display_name": "base",
   "language": "python",
   "name": "python3"
  },
  "language_info": {
   "codemirror_mode": {
    "name": "ipython",
    "version": 3
   },
   "file_extension": ".py",
   "mimetype": "text/x-python",
   "name": "python",
   "nbconvert_exporter": "python",
   "pygments_lexer": "ipython3",
   "version": "3.12.4"
  }
 },
 "nbformat": 4,
 "nbformat_minor": 2
}
