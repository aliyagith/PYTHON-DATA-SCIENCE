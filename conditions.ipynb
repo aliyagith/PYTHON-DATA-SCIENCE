{
 "cells": [
  {
   "cell_type": "markdown",
   "metadata": {},
   "source": [
    "# CONDITIONS OF PYTHON\n",
    "- block of code\n",
    "    -\n",
    "- if condition\n",
    "- if else condition\n",
    "- if elif ladder\n",
    "- nested if else\n",
    "- short hand if else\n",
    "- match case"
   ]
  },
  {
   "cell_type": "code",
   "execution_count": null,
   "metadata": {},
   "outputs": [],
   "source": [
    "a = -3\n",
    "a > 5 # block of code\n",
    "print(\"a is greater then 5\")\n",
    "print('hi')\n",
    "print('bye')"
   ]
  },
  {
   "cell_type": "code",
   "execution_count": null,
   "metadata": {},
   "outputs": [],
   "source": [
    "word = input(\"enter the long word\")\n",
    "if len(word)> 10:\n",
    "    print(\"very good, you have know how to type long word\")"
   ]
  },
  {
   "cell_type": "code",
   "execution_count": null,
   "metadata": {},
   "outputs": [],
   "source": [
    "n = (12,21,32)\n",
    "if sum(n)>100:\n",
    "    print(\"yay 100\")\n",
    "else:\n",
    "    print(\"📃not:100\")"
   ]
  },
  {
   "cell_type": "code",
   "execution_count": null,
   "metadata": {},
   "outputs": [],
   "source": [
    "# if elif ladder\n",
    "marks = 80\n",
    "if marks>85:\n",
    "    grade='A'\n",
    "elif marks>70:\n",
    "    grade='B'\n",
    "elif marks>75:\n",
    "    grade='c'\n",
    "elif marks>60:\n",
    "    grade='D'\n",
    "else:\n",
    "    grade = 'f'\n",
    "print(f\"grade is {grade}\")\n"
   ]
  },
  {
   "cell_type": "code",
   "execution_count": null,
   "metadata": {},
   "outputs": [],
   "source": [
    "# find the largest no.\n",
    "a = 10\n",
    "b = 20\n",
    "c = 24\n",
    "if a>b and a>c:\n",
    "    print(f\"A{a} is the largest\")\n",
    "elif b>a and b>c:\n",
    "    print(f\"a{b} is the largest\")\n",
    "else:\n",
    "    print(f\"c{c} is the largest\")"
   ]
  },
  {
   "cell_type": "code",
   "execution_count": null,
   "metadata": {},
   "outputs": [],
   "source": [
    "# nested if else\n",
    "un = input('enter the username')\n",
    "pw = input('enter the password')\n",
    "if un != '' and pw !='':\n",
    "    if un =='admin':\n",
    "        if pw =='admin':\n",
    "            print(\"📃 welcome, Admin\")\n",
    "        else:\n",
    "            print(\"📃storng Password\")\n",
    "    else:\n",
    "        print(\"📃Invalid username\")\n",
    "else:\n",
    "    print(\"📃Enter valid details📃\")"
   ]
  },
  {
   "cell_type": "code",
   "execution_count": null,
   "metadata": {},
   "outputs": [],
   "source": [
    "# short hand if else\n",
    "a = 10\n",
    "print(\"📃\") if a >=10 else print(\"❌\")\n",
    "print(\"📃\" if a >=10 else \"❌\")"
   ]
  },
  {
   "cell_type": "code",
   "execution_count": null,
   "metadata": {},
   "outputs": [
    {
     "name": "stdout",
     "output_type": "stream",
     "text": [
      "what would you like to eat\n",
      "menu\n",
      "1. pizza🍕\n",
      "2. momo\n",
      "3. pasta🍝\n",
      "enter a number: \n",
      "Invalid choice\n"
     ]
    }
   ],
   "source": [
    "# match case (not similar to switch case)\n",
    "print(\"what would you like to eat\")\n",
    "print(\"menu\")\n",
    "print(\"1. pizza🍕\")\n",
    "print(\"2. momo\")\n",
    "print(\"3. pasta🍝\")\n",
    "print(\"4. sandwich\")\n",
    "print(\"enter a number: \")\n",
    "ch = int(input(\">>>\"))\n",
    "match ch:\n",
    "    case 1:\n",
    "        print(\"your order is pizza🍕 \\ntotal amt = 400\")\n",
    "    case 2:\n",
    "        print(\"your order is momo \\ntotal amt = 199\")\n",
    "    case 3:\n",
    "        print(\"your order is pasta🍝 \\n amt = 299\")\n",
    "    case 4:\n",
    "        print(\"your order is sandwich \\ntotal amt = 99\")\n",
    "    case _:\n",
    "        print(\"Invalid choice\")"
   ]
  },
  {
   "cell_type": "code",
   "execution_count": null,
   "metadata": {},
   "outputs": [],
   "source": [
    "print(\"what would you like to eat\")\n",
    "print(\"menu\")\n",
    "print(\"1. pizza🍕\")\n",
    "print(\"2. pasta\")\n",
    "print(\"3. momo\")\n",
    "print(\"enter a number:\")\n",
    "ch = int(input(\">>>\"))\n",
    "if ch == 1:\n",
    "    print(\"your order is pizza🍕 \\ntotal amt = 400\")\n",
    "elif ch == 2:\n",
    "    print(\"your order is pasta \\ntotal amt = 350\")\n",
    "elif ch == 3:\n",
    "    print(\"your order is momo \\ntotal amt = 99\")\n",
    "else:\n",
    "    print(\"INVALID CHOICES\")"
   ]
  }
 ],
 "metadata": {
  "kernelspec": {
   "display_name": "base",
   "language": "python",
   "name": "python3"
  },
  "language_info": {
   "codemirror_mode": {
    "name": "ipython",
    "version": 3
   },
   "file_extension": ".py",
   "mimetype": "text/x-python",
   "name": "python",
   "nbconvert_exporter": "python",
   "pygments_lexer": "ipython3",
   "version": "3.12.4"
  }
 },
 "nbformat": 4,
 "nbformat_minor": 2
}
