{
 "cells": [
  {
   "cell_type": "markdown",
   "metadata": {},
   "source": [
    "# CONDITIONS OF PYTHON\n",
    "- block of code\n",
    "    -\n",
    "- if condition\n",
    "- if else condition\n",
    "- if elif ladder\n",
    "- nested if else\n",
    "- short hand if else\n",
    "- match case"
   ]
  },
  {
   "cell_type": "code",
   "execution_count": 1,
   "metadata": {},
   "outputs": [
    {
     "name": "stdout",
     "output_type": "stream",
     "text": [
      "a is greater then 5\n",
      "hi\n",
      "bye\n"
     ]
    }
   ],
   "source": [
    "a = -3\n",
    "a > 5 # block of code\n",
    "print(\"a is greater then 5\")\n",
    "print('hi')\n",
    "print('bye')\n"
   ]
  },
  {
   "cell_type": "code",
   "execution_count": 2,
   "metadata": {},
   "outputs": [
    {
     "name": "stdout",
     "output_type": "stream",
     "text": [
      "very good, you have know how to type long word\n"
     ]
    }
   ],
   "source": [
    "word = input(\"enter the long word\")\n",
    "if len(word)> 10:\n",
    "    print(\"very good, you have know how to type long word\")"
   ]
  },
  {
   "cell_type": "code",
   "execution_count": 3,
   "metadata": {},
   "outputs": [
    {
     "name": "stdout",
     "output_type": "stream",
     "text": [
      "📃not:100\n"
     ]
    }
   ],
   "source": [
    "n = (12,21,32)\n",
    "if sum(n)>100:\n",
    "    print(\"yay 100\")\n",
    "else:\n",
    "    print(\"📃not:100\")"
   ]
  },
  {
   "cell_type": "code",
   "execution_count": 4,
   "metadata": {},
   "outputs": [
    {
     "name": "stdout",
     "output_type": "stream",
     "text": [
      "grade is B\n"
     ]
    }
   ],
   "source": [
    "# if elif ladder\n",
    "marks = 80\n",
    "if marks>85:\n",
    "    grade='A'\n",
    "elif marks>70:\n",
    "    grade='B'\n",
    "elif marks>75:\n",
    "    grade='c'\n",
    "elif marks>60:\n",
    "    grade='D'\n",
    "else:\n",
    "    grade = 'f'\n",
    "print(f\"grade is {grade}\")\n"
   ]
  },
  {
   "cell_type": "code",
   "execution_count": 5,
   "metadata": {},
   "outputs": [
    {
     "name": "stdout",
     "output_type": "stream",
     "text": [
      "c24 is the largest\n"
     ]
    }
   ],
   "source": [
    "# find the largest no.\n",
    "a = 10\n",
    "b = 20\n",
    "c = 24\n",
    "if a>b and a>c:\n",
    "    print(f\"A{a} is the largest\")\n",
    "elif b>a and b>c:\n",
    "    print(f\"a{b} is the largest\")\n",
    "else:\n",
    "    print(f\"c{c} is the largest\")"
   ]
  },
  {
   "cell_type": "code",
   "execution_count": null,
   "metadata": {},
   "outputs": [],
   "source": [
    "# nested if else\n",
    "un = input('enter the username')\n",
    "pw = input('enter the password')\n",
    "if un is"
   ]
  }
 ],
 "metadata": {
  "kernelspec": {
   "display_name": "base",
   "language": "python",
   "name": "python3"
  },
  "language_info": {
   "codemirror_mode": {
    "name": "ipython",
    "version": 3
   },
   "file_extension": ".py",
   "mimetype": "text/x-python",
   "name": "python",
   "nbconvert_exporter": "python",
   "pygments_lexer": "ipython3",
   "version": "3.12.4"
  }
 },
 "nbformat": 4,
 "nbformat_minor": 2
}
