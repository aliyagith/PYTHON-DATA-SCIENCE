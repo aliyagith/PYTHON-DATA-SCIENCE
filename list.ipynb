{
 "cells": [
  {
   "cell_type": "code",
   "execution_count": 1,
   "metadata": {},
   "outputs": [
    {
     "name": "stdout",
     "output_type": "stream",
     "text": [
      "['chrome', 'photo', 'zomato', 'uber', 'drive', 'intagram', 'facebook', 'whatsapp', 'swiggy']\n"
     ]
    }
   ],
   "source": [
    "apps = ['chrome','photo','zomato','uber','drive','intagram','facebook','whatsapp','swiggy']\n",
    "print(apps)"
   ]
  },
  {
   "cell_type": "code",
   "execution_count": 2,
   "metadata": {},
   "outputs": [
    {
     "name": "stdout",
     "output_type": "stream",
     "text": [
      "intagram\n",
      "facebook\n"
     ]
    }
   ],
   "source": [
    "print(apps[5])\n",
    "print(apps[6])"
   ]
  },
  {
   "cell_type": "code",
   "execution_count": 3,
   "metadata": {},
   "outputs": [
    {
     "name": "stdout",
     "output_type": "stream",
     "text": [
      "intagram\n",
      "facebook\n",
      "facebook\n",
      "chrome\n"
     ]
    }
   ],
   "source": [
    "#positive or negative indexing\n",
    "print(apps[5])\n",
    "print(apps[6])\n",
    "print(apps[-3])\n",
    "print(apps[-9])\n"
   ]
  },
  {
   "cell_type": "code",
   "execution_count": 4,
   "metadata": {},
   "outputs": [
    {
     "name": "stdout",
     "output_type": "stream",
     "text": [
      "['chrome', 'photo', 'zomato']\n",
      "['chrome', 'photo', 'zomato', 'uber', 'drive', 'intagram', 'facebook', 'whatsapp', 'swiggy']\n"
     ]
    }
   ],
   "source": [
    "print(apps[0:3])\n",
    "print(apps)"
   ]
  },
  {
   "cell_type": "code",
   "execution_count": 9,
   "metadata": {},
   "outputs": [
    {
     "name": "stdout",
     "output_type": "stream",
     "text": [
      "['chrome', 'photo', 'zomato']\n",
      "['chrome', 'zomato', 'drive', 'facebook', 'swiggy']\n",
      "['chrome', 'photo', 'zomato', 'uber', 'drive']\n",
      "['intagram', 'facebook', 'whatsapp', 'swiggy']\n",
      "['chrome', 'photo', 'zomato', 'uber', 'drive', 'intagram', 'facebook', 'whatsapp', 'swiggy']\n",
      "['chrome', 'zomato', 'drive', 'facebook', 'swiggy']\n"
     ]
    }
   ],
   "source": [
    "print(apps[0:3])\n",
    "print(apps[0:10:2])\n",
    "print(apps[:5])\n",
    "print(apps[5:])\n",
    "print(apps[:])\n",
    "print(apps[::2])"
   ]
  },
  {
   "cell_type": "code",
   "execution_count": 10,
   "metadata": {},
   "outputs": [
    {
     "name": "stdout",
     "output_type": "stream",
     "text": [
      "['chrome', 'photo', 'zomato', 'uber', 'drive', 'intagram', 'facebook', 'whatsapp', 'swiggy']\n"
     ]
    }
   ],
   "source": [
    "print(apps)"
   ]
  },
  {
   "cell_type": "code",
   "execution_count": 11,
   "metadata": {},
   "outputs": [
    {
     "name": "stdout",
     "output_type": "stream",
     "text": [
      "['chrome', 'photo', 'zomato', 'uber', 'drive', 'intagram', 'facebook', 'whatsapp', 'swiggy', 'tinder']\n"
     ]
    }
   ],
   "source": [
    "#add item\n",
    "apps.append('tinder')\n",
    "print(apps)"
   ]
  },
  {
   "cell_type": "code",
   "execution_count": 12,
   "metadata": {},
   "outputs": [
    {
     "name": "stdout",
     "output_type": "stream",
     "text": [
      "['chrome', 'photo', 'tinder', 'zomato', 'uber', 'drive', 'intagram', 'facebook', 'whatsapp', 'swiggy', 'tinder']\n"
     ]
    }
   ],
   "source": [
    "# insert a position to a specifice place\n",
    "apps.insert(2,'tinder')\n",
    "print(apps)"
   ]
  },
  {
   "cell_type": "code",
   "execution_count": 13,
   "metadata": {},
   "outputs": [
    {
     "name": "stdout",
     "output_type": "stream",
     "text": [
      "['chrome', 'photo', 'tinder', 'zomato', 'uber', 'drive', 'facebook', 'whatsapp', 'swiggy', 'tinder']\n"
     ]
    }
   ],
   "source": [
    "#tp delete a item by index position\n",
    "apps.pop(6)\n",
    "print(apps)"
   ]
  },
  {
   "cell_type": "code",
   "execution_count": 14,
   "metadata": {},
   "outputs": [
    {
     "name": "stdout",
     "output_type": "stream",
     "text": [
      "['chrome', 'photo', 'tinder', 'zomato', 'uber', 'facebook', 'whatsapp', 'swiggy', 'tinder']\n"
     ]
    }
   ],
   "source": [
    "#delete by name\n",
    "apps.remove('drive')\n",
    "print(apps)"
   ]
  },
  {
   "cell_type": "code",
   "execution_count": 15,
   "metadata": {},
   "outputs": [
    {
     "name": "stdout",
     "output_type": "stream",
     "text": [
      "['chrome', 'facebook', 'photo', 'swiggy', 'tinder', 'tinder', 'uber', 'whatsapp', 'zomato']\n"
     ]
    }
   ],
   "source": [
    "apps.sort()\n",
    "print(apps)"
   ]
  },
  {
   "cell_type": "code",
   "execution_count": 16,
   "metadata": {},
   "outputs": [
    {
     "name": "stdout",
     "output_type": "stream",
     "text": [
      "['chrome', 'facebook', 'photo', 'swiggy', 'tinder', 'tinder', 'uber', 'whatsapp', 'zomato']\n"
     ]
    }
   ],
   "source": [
    "apps2 = apps.copy()\n",
    "print(apps)"
   ]
  },
  {
   "cell_type": "code",
   "execution_count": null,
   "metadata": {},
   "outputs": [],
   "source": [
    "#combine to list\n",
    "apps3 = ['gpay','camera','maps']\n",
    "apps2.extend(apps3)\n",
    "print(apps2)"
   ]
  },
  {
   "cell_type": "code",
   "execution_count": null,
   "metadata": {},
   "outputs": [
    {
     "name": "stdout",
     "output_type": "stream",
     "text": [
      "[4, 16, 36, 64, 100]\n"
     ]
    }
   ],
   "source": [
    "#to print the square\n",
    "a = [2,4,6,8,10]\n",
    "lst= []\n",
    "for i in a:\n",
    "       lst.append(i**2)\n",
    "print(lst)"
   ]
  },
  {
   "cell_type": "code",
   "execution_count": 1,
   "metadata": {},
   "outputs": [
    {
     "name": "stdout",
     "output_type": "stream",
     "text": [
      "[4, 16, 36, 64, 100]\n"
     ]
    }
   ],
   "source": [
    "num = [2,4,6,8,10]\n",
    "square = [i**2 for i in num] #list comprehension\n",
    "print(square)"
   ]
  },
  {
   "cell_type": "code",
   "execution_count": 2,
   "metadata": {},
   "outputs": [
    {
     "name": "stdout",
     "output_type": "stream",
     "text": [
      "[8, 64, 125, 216, 512]\n"
     ]
    }
   ],
   "source": [
    "num =[2,4,5,6,8]\n",
    "cube = [i**3 for i in num]\n",
    "print(cube)"
   ]
  },
  {
   "cell_type": "code",
   "execution_count": 7,
   "metadata": {},
   "outputs": [
    {
     "name": "stdout",
     "output_type": "stream",
     "text": [
      "[4, 8, 50, 10, 34, 54, 12]\n"
     ]
    }
   ],
   "source": [
    "# to print even numbers from the list using list comprehension\n",
    "x = [1,4,3,5,8,50,10,34,23,54,12]\n",
    "even_nums = [num for num in x if num%2==0]\n",
    "print(even_nums)"
   ]
  },
  {
   "cell_type": "code",
   "execution_count": 4,
   "metadata": {},
   "outputs": [
    {
     "name": "stdout",
     "output_type": "stream",
     "text": [
      "['banana', 'orange', 'avoado', 'grapes', 'cherry']\n"
     ]
    }
   ],
   "source": [
    "#fruits whose length = 6\n",
    "fruits = ['mango','banana','orange','apple','avoado','grapes','cherry']\n",
    "len_fruits = [i for i in fruits if len(i)==6] \n",
    "print(len_fruits)"
   ]
  },
  {
   "cell_type": "code",
   "execution_count": 7,
   "metadata": {},
   "outputs": [
    {
     "name": "stdout",
     "output_type": "stream",
     "text": [
      "['HELLO', 'MY', 'NAME', 'IS', 'JOY']\n"
     ]
    }
   ],
   "source": [
    "words = ['hello','my','name','is','joy']\n",
    "lst = [i.upper() for i in words]\n",
    "print(lst)"
   ]
  }
 ],
 "metadata": {
  "kernelspec": {
   "display_name": "base",
   "language": "python",
   "name": "python3"
  },
  "language_info": {
   "codemirror_mode": {
    "name": "ipython",
    "version": 3
   },
   "file_extension": ".py",
   "mimetype": "text/x-python",
   "name": "python",
   "nbconvert_exporter": "python",
   "pygments_lexer": "ipython3",
   "version": "3.12.4"
  }
 },
 "nbformat": 4,
 "nbformat_minor": 2
}
