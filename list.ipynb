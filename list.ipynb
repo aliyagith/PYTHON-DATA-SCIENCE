{
 "cells": [
  {
   "cell_type": "code",
   "execution_count": 1,
   "metadata": {},
   "outputs": [
    {
     "name": "stdout",
     "output_type": "stream",
     "text": [
      "['chrome', 'photo', 'zomato', 'uber', 'drive', 'intagram', 'facebook', 'whatsapp', 'swiggy']\n"
     ]
    }
   ],
   "source": [
    "apps = ['chrome','photo','zomato','uber','drive','intagram','facebook','whatsapp','swiggy']\n",
    "print(apps)"
   ]
  },
  {
   "cell_type": "code",
   "execution_count": 2,
   "metadata": {},
   "outputs": [
    {
     "name": "stdout",
     "output_type": "stream",
     "text": [
      "intagram\n",
      "facebook\n"
     ]
    }
   ],
   "source": [
    "print(apps[5])\n",
    "print(apps[6])"
   ]
  },
  {
   "cell_type": "code",
   "execution_count": 3,
   "metadata": {},
   "outputs": [
    {
     "name": "stdout",
     "output_type": "stream",
     "text": [
      "intagram\n",
      "facebook\n",
      "facebook\n",
      "chrome\n"
     ]
    }
   ],
   "source": [
    "print(apps[5])\n",
    "print(apps[6])\n",
    "print(apps[-3])\n",
    "print(apps[-9])\n"
   ]
  },
  {
   "cell_type": "code",
   "execution_count": 4,
   "metadata": {},
   "outputs": [
    {
     "name": "stdout",
     "output_type": "stream",
     "text": [
      "['chrome', 'photo', 'zomato']\n",
      "['chrome', 'photo', 'zomato', 'uber', 'drive', 'intagram', 'facebook', 'whatsapp', 'swiggy']\n"
     ]
    }
   ],
   "source": [
    "print(apps[0:3])\n",
    "print(apps)"
   ]
  },
  {
   "cell_type": "code",
   "execution_count": 9,
   "metadata": {},
   "outputs": [
    {
     "name": "stdout",
     "output_type": "stream",
     "text": [
      "['chrome', 'photo', 'zomato']\n",
      "['chrome', 'zomato', 'drive', 'facebook', 'swiggy']\n",
      "['chrome', 'photo', 'zomato', 'uber', 'drive']\n",
      "['intagram', 'facebook', 'whatsapp', 'swiggy']\n",
      "['chrome', 'photo', 'zomato', 'uber', 'drive', 'intagram', 'facebook', 'whatsapp', 'swiggy']\n",
      "['chrome', 'zomato', 'drive', 'facebook', 'swiggy']\n"
     ]
    }
   ],
   "source": [
    "print(apps[0:3])\n",
    "print(apps[0:10:2])\n",
    "print(apps[:5])\n",
    "print(apps[5:])\n",
    "print(apps[:])\n",
    "print(apps[::2])"
   ]
  },
  {
   "cell_type": "code",
   "execution_count": 10,
   "metadata": {},
   "outputs": [
    {
     "name": "stdout",
     "output_type": "stream",
     "text": [
      "['chrome', 'photo', 'zomato', 'uber', 'drive', 'intagram', 'facebook', 'whatsapp', 'swiggy']\n"
     ]
    }
   ],
   "source": [
    "print(apps)"
   ]
  },
  {
   "cell_type": "code",
   "execution_count": 11,
   "metadata": {},
   "outputs": [
    {
     "name": "stdout",
     "output_type": "stream",
     "text": [
      "['chrome', 'photo', 'zomato', 'uber', 'drive', 'intagram', 'facebook', 'whatsapp', 'swiggy', 'tinder']\n"
     ]
    }
   ],
   "source": [
    "apps.append('tinder')\n",
    "print(apps)"
   ]
  },
  {
   "cell_type": "code",
   "execution_count": 12,
   "metadata": {},
   "outputs": [
    {
     "name": "stdout",
     "output_type": "stream",
     "text": [
      "['chrome', 'photo', 'tinder', 'zomato', 'uber', 'drive', 'intagram', 'facebook', 'whatsapp', 'swiggy', 'tinder']\n"
     ]
    }
   ],
   "source": [
    "apps.insert(2,'tinder')\n",
    "print(apps)"
   ]
  },
  {
   "cell_type": "code",
   "execution_count": 13,
   "metadata": {},
   "outputs": [
    {
     "name": "stdout",
     "output_type": "stream",
     "text": [
      "['chrome', 'photo', 'tinder', 'zomato', 'uber', 'drive', 'facebook', 'whatsapp', 'swiggy', 'tinder']\n"
     ]
    }
   ],
   "source": [
    "apps.pop(6)\n",
    "print(apps)"
   ]
  },
  {
   "cell_type": "code",
   "execution_count": 14,
   "metadata": {},
   "outputs": [
    {
     "name": "stdout",
     "output_type": "stream",
     "text": [
      "['chrome', 'photo', 'tinder', 'zomato', 'uber', 'facebook', 'whatsapp', 'swiggy', 'tinder']\n"
     ]
    }
   ],
   "source": [
    "apps.remove('drive')\n",
    "print(apps)"
   ]
  },
  {
   "cell_type": "code",
   "execution_count": 15,
   "metadata": {},
   "outputs": [
    {
     "name": "stdout",
     "output_type": "stream",
     "text": [
      "['chrome', 'facebook', 'photo', 'swiggy', 'tinder', 'tinder', 'uber', 'whatsapp', 'zomato']\n"
     ]
    }
   ],
   "source": [
    "apps.sort()\n",
    "print(apps)"
   ]
  },
  {
   "cell_type": "code",
   "execution_count": 16,
   "metadata": {},
   "outputs": [
    {
     "name": "stdout",
     "output_type": "stream",
     "text": [
      "['chrome', 'facebook', 'photo', 'swiggy', 'tinder', 'tinder', 'uber', 'whatsapp', 'zomato']\n"
     ]
    }
   ],
   "source": [
    "apps2 = apps.copy()\n",
    "print(apps)"
   ]
  },
  {
   "cell_type": "code",
   "execution_count": null,
   "metadata": {},
   "outputs": [],
   "source": []
  },
  {
   "cell_type": "code",
   "execution_count": null,
   "metadata": {},
   "outputs": [
    {
     "name": "stdout",
     "output_type": "stream",
     "text": [
      "[4, 16, 36, 64, 100]\n"
     ]
    }
   ],
   "source": [
    "a = [2,4,6,8,10]\n",
    "lst= []\n",
    "for i in a:\n",
    "       lst.append(i**2)\n",
    "print(lst)"
   ]
  },
  {
   "cell_type": "code",
   "execution_count": 1,
   "metadata": {},
   "outputs": [
    {
     "name": "stdout",
     "output_type": "stream",
     "text": [
      "[4, 16, 36, 64, 100]\n"
     ]
    }
   ],
   "source": [
    "num = [2,4,6,8,10]\n",
    "square = [i**2 for i in num]\n",
    "print(square)"
   ]
  },
  {
   "cell_type": "code",
   "execution_count": 7,
   "metadata": {},
   "outputs": [
    {
     "name": "stdout",
     "output_type": "stream",
     "text": [
      "[4, 8, 50, 10, 34, 54, 12]\n"
     ]
    }
   ],
   "source": [
    "x = [1,4,3,5,8,50,10,34,23,54,12]\n",
    "even_nums = [num for num in x if num%2==0]\n",
    "print(even_nums)"
   ]
  },
  {
   "cell_type": "code",
   "execution_count": 8,
   "metadata": {},
   "outputs": [
    {
     "ename": "NameError",
     "evalue": "name 'mango' is not defined",
     "output_type": "error",
     "traceback": [
      "\u001b[1;31m---------------------------------------------------------------------------\u001b[0m",
      "\u001b[1;31mNameError\u001b[0m                                 Traceback (most recent call last)",
      "Cell \u001b[1;32mIn[8], line 1\u001b[0m\n\u001b[1;32m----> 1\u001b[0m x \u001b[38;5;241m=\u001b[39m [mango,banana,orange,apple]\n\u001b[0;32m      2\u001b[0m i \u001b[38;5;241m=\u001b[39m [length \u001b[38;5;28;01mfor\u001b[39;00m length \u001b[38;5;129;01min\u001b[39;00m i \u001b[38;5;28;01mif\u001b[39;00m num\u001b[38;5;241m%\u001b[39m\u001b[38;5;241m2\u001b[39m\u001b[38;5;241m==\u001b[39m\u001b[38;5;241m0\u001b[39m] \n\u001b[0;32m      3\u001b[0m \u001b[38;5;28mprint\u001b[39m(i)\n",
      "\u001b[1;31mNameError\u001b[0m: name 'mango' is not defined"
     ]
    }
   ],
   "source": [
    "x = [mango,banana,orange,apple]\n",
    "length = [length for length in x if num%2==0] \n",
    "print(i)"
   ]
  },
  {
   "cell_type": "code",
   "execution_count": 6,
   "metadata": {},
   "outputs": [
    {
     "name": "stdout",
     "output_type": "stream",
     "text": [
      "['HELO', 'MY', 'NAME', 'IS', 'JOY']\n"
     ]
    }
   ],
   "source": [
    "words = ['helo','my','name','is','joy']\n",
    "lst = [i.upper() for i in words]\n",
    "print(lst)"
   ]
  },
  {
   "cell_type": "code",
   "execution_count": null,
   "metadata": {},
   "outputs": [],
   "source": []
  }
 ],
 "metadata": {
  "kernelspec": {
   "display_name": "base",
   "language": "python",
   "name": "python3"
  },
  "language_info": {
   "codemirror_mode": {
    "name": "ipython",
    "version": 3
   },
   "file_extension": ".py",
   "mimetype": "text/x-python",
   "name": "python",
   "nbconvert_exporter": "python",
   "pygments_lexer": "ipython3",
   "version": "3.12.4"
  }
 },
 "nbformat": 4,
 "nbformat_minor": 2
}
